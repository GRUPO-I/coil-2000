{
  "nbformat": 4,
  "nbformat_minor": 0,
  "metadata": {
    "colab": {
      "name": "Copia1de_coil_2000.ipynb",
      "provenance": [],
      "collapsed_sections": [
        "9udMtmaA8upp"
      ]
    },
    "kernelspec": {
      "name": "python3",
      "display_name": "Python 3"
    }
  },
  "cells": [
    {
      "cell_type": "markdown",
      "metadata": {
        "id": "9udMtmaA8upp",
        "colab_type": "text"
      },
      "source": [
        "***Comprensión del caso***"
      ]
    },
    {
      "cell_type": "markdown",
      "metadata": {
        "id": "y23bl0Y84kQi",
        "colab_type": "text"
      },
      "source": [
        "**Link de Github**: https://github.com/GRUPO-I/coil-2000"
      ]
    },
    {
      "cell_type": "markdown",
      "metadata": {
        "id": "ru2ru8hX6HIO",
        "colab_type": "text"
      },
      "source": [
        "\n",
        "\n",
        "El dataset a utilizar será el de Insurance Company Benchmark (COIL 2000) y se encuentra disponible en el siguiente link: https://archive.ics.uci.edu/ml/datasets/Insurance+Company+Benchmark+%28COIL+2000%29"
      ]
    },
    {
      "cell_type": "markdown",
      "metadata": {
        "id": "aVrlDe4J5ik9",
        "colab_type": "text"
      },
      "source": [
        "**Descripción**"
      ]
    },
    {
      "cell_type": "markdown",
      "metadata": {
        "id": "3sQyT5g-4v4F",
        "colab_type": "text"
      },
      "source": [
        "\n",
        "\n",
        ">Nro | Variable | Descripción | Dominio\n",
        ">--- | --- | --- | ---\n",
        ">1 | MOSTYPE | Customer Subtype [Subtipo de Cliente] | Revisar L0 (1-41: 1 High Income, expensive child, 2: Very Important Provincials, ... 40: Large family farms, 41: Mixed rurals)\n",
        ">2 | MAANTHUI | Number of houses [Nro de casas] | 1 – 10\n",
        ">3 | MGEMOMV | Avg size household [Tamaño promedio del hogar] | 1 – 6\n",
        "> 4 | MGEMLEEF | Avg age [Edad promedio] | Revisar L1 (1-6: 1: 20-30 years, 2: 30-40 years, 3: 40-50 years, 4: 50-60 years, 5: 60-70 years, 6: 70-80 years)\n",
        ">5 | MOSHOOFD | Customer main type [Tipo principal de cliente] | Revisar L2 (1-10: 1: Successful hedonists, 2: Driven Growers, 3: Average Family, 4: Career Loners, 5: Living well, 6: Cruising Seniors, 7: Retired and Religeous, 8: Family with grown ups, 9: Conservative families, 10: Farmers)\n",
        ">6 | MGODRK | Roman catholic [Católico Romano] | Revisar L3 (0-9: 0: 0%, 1: 1 - 10%, 2: 11 - 23%, 3: 24 - 36%, 4: 37 - 49%, 5: 50 - 62%, 6: 63 - 75%, 7: 76 - 88%, 8: 89 - 99%, 9: 100%)\n",
        ">7 | MGODPR | Protestant [Protestante] |\n",
        ">8 | MGODOV | Other religion [Otra religión] |\n",
        ">9 | MGODGE | No religion [No profesa religión] |\n",
        ">10 | MRELGE | Married [Casado] |\n",
        ">11 | MRELSA | Living together [Convivencia] |\n",
        ">12 | MRELOV | Other relation [Otra relación] |\n",
        ">13 | MFALLEEN | Singles [Soltero] |\n",
        ">14 | MFGEKIND | Household without children [Hogar sin hijos] |\n",
        ">15 | MFWEKIND | Household with children [Hogar con hijos] |\n",
        ">16 | MOPLHOOG | High level education [Educación de nivel alto] | \n",
        ">17 | MOPLMIDD | Medium level education [Educación de nivel medio] |\n",
        ">18 | MOPLLAAG | Lower level education [Educación de nivel bajo] |\n",
        ">19 | MBERHOOG | High status [Clase social alta] |\n",
        ">20 | MBERZELF | Entrepreneur [Empresario] |\n",
        ">21 | MBERBOER | Farmer [Granjero] |\n",
        ">22 | MBERMIDD | Middle management [Administración Intermedia] |\n",
        ">23 | MBERARBG | Skilled labourers [Trabajadores calificados] |\n",
        ">24 | MBERARBO | Unskilled labourers [Trabajadores no calificados] |\n",
        ">25 | MSKA | Social class A [Clase Social A] |\n",
        ">26 | MSKB1 | Social class B1 [Clase social B1] |\n",
        ">27 | MSKB2 | Social class B2 [Clase social B2] |\n",
        ">28 | MSKC | Social class C [Clase social C] |\n",
        ">29 | MSKD | Social class D [Clase social D] \n",
        ">30 | MHHUUR | Rented house [Casa alquilada] |\n",
        ">31 | MHKOOP | Home owners [Casa propia] |\n",
        ">32 | MAUT1 | 1 car [Propietario de 1 auto] |\n",
        ">33 | MAUT2 | 2 cars [Propietario de 2 autos] |\n",
        ">34 | MAUT0 | No car [No tiene auto] |\n",
        ">35 | MZFONDS | National Health Service [Servicio de salud público] |\n",
        ">36 | MZPART | Private health insurance [Seguro de salud privado] |\n",
        ">37 | MINKM30 | Income < 30.000 [Ingresos < 30,000] |\n",
        ">38 | MINK3045 | Income 30-45.000 [Ingresos entre 30,000 - 45,000] |\n",
        ">39 | MINK4575 | Income 45-75.000 [Ingresos entre 45,000 - 75,000] |\n",
        ">40 | MINK7512 | Income 75-122.000 [Ingresos entre 75,000 - 122,000] |\n",
        ">41 | MINK123M | Income >123.000 [Ingresos > 123,000] |\n",
        ">42 | MINKGEM | Average income [Ingresos promedio] |\n",
        ">43 | MKOOPKLA | Purchasing power class [Clase de poder adquisitivo] |\n",
        ">44 | PWAPART | Contribution private third party insurance [Contribución de seguro de terceros] | Revisar L4 (0-9: 0: f 0, 1: f 1 – 49, 2: f 50 – 99, 3: f 100 – 199, 4: f 200 – 499, 5: f 500 – 999, 6: f 1000 – 4999, 7: f 5000 – 9999, 8: f 10.000 - 19.999, 9: f 20.000 - ?)\n",
        ">45 | PWABEDR | Contribution third party insurance (firms) [Contribución de seguro de terceros (Empresas)] |\n",
        ">46 | PWALAND | Contribution third party insurane (agriculture) [Contribución de seguro de terceros (Agricultura)] |\n",
        ">47 | PPERSAUT | Contribution car policies [Contribución de pólizas de auto] |\n",
        ">48 | PBESAUT | Contribution delivery van policies [Contribución de pólizas de camioneta de despacho] |\n",
        ">49 | PMOTSCO | Contribution motorcycle/scooter policies [Contribución de pólizas de moto / scooter] |\n",
        ">50 | PVRAAUT | Contribution lorry policies [Contribución de pólizas de camión] |\n",
        ">51 | PAANHANG | Contribution trailer policies [Contribución de pólizas de trailer] |\n",
        ">52 | PTRACTOR | Contribution tractor policies [Contribución de pólizas de tractor] |\n",
        ">53 | PWERKT | Contribution agricultural machines policies [Contribución de pólizas de máquinas agrícolas] |\n",
        ">54 | PBROM | Contribution moped policies [Contribución de pólizas de ciclomotor] |\n",
        ">55 | PLEVEN | Contribution life insurances [Contribución de seguros de vida] |\n",
        ">56 | PPERSONG | Contribution private accident insurance policies [Contribución de pólizas de seguro privado de accidentes] |\n",
        ">57 | PGEZONG | Contribution family accidents insurance policies [Contribución de pólizas de seguro de accidentes familiares] |\n",
        ">58 | PWAOREG | Contribution disability insurance policies [Contribución de pólizas de seguro de invalidez] |\n",
        ">59 | PBRAND | Contribution fire policies [Contribución de pólizas de incendio] | \n",
        ">60 | PZEILPL | Contribution surfboard policies [Contribución de pólizas de tabla de surf] |\n",
        ">61 | PPLEZIER | Contribution boat policies [Contribución de pólizas de barco] |\n",
        ">62 | PFIETS | Contribution bicycle policies [Contribución de pólizas de bicicleta] |\n",
        ">63 | PINBOED | Contribution property insurance policies [Contribución de pólizas de seguro de propiedad (terreno)] |\n",
        ">64 | PBYSTAND | Contribution social security insurance policies [Contribución de pólizas de seguro social] |\n",
        ">65 | AWAPART | Number of private third party insurance [Número de seguros privados de terceros] | 1 - 12\n",
        ">66 | AWABEDR | Number of third party insurance (firms) [Número de seguros de terceros(Empresas)] |\n",
        ">67 | AWALAND | Number of third party insurane (agriculture) [Número de seguros de terceros(Agricultura)] |\n",
        ">68 | APERSAUT | Number of car policies [Número de pólizas de auto] |\n",
        ">69 | ABESAUT | Number of delivery van policies [Número de pólizas de camioneta de despacho] |\n",
        ">70 | AMOTSCO | Number of motorcycle/scooter policies [Número de pólizas de moto / scooter] |\n",
        ">71 | AVRAAUT | Number of lorry policies [Número de pólizas de camión] |\n",
        ">72 | AAANHANG | Number of trailer policies [Número de pólizas de trailer] |\n",
        ">73 | ATRACTOR | Number of tractor policies [Número de pólizas de tractor] |\n",
        ">74 | AWERKT | Number of agricultural machines policies [Número de pólizas de máquinas agrícolas] |\n",
        ">75 | ABROM | Number of moped policies [Número de pólizas de ciclomotor] |\n",
        ">76 | ALEVEN | Number of life insurances [Número de seguros de vida] |\n",
        ">77 | APERSONG | Number of private accident insurance policies [Número de pólizas de seguro privado de accidentes] |\n",
        ">78 | AGEZONG | Number of family accidents insurance policies [Número de pólizas de seguro de accidenentes familiares] |\n",
        ">79 | AWAOREG | Number of disability insurance policies [Número de pólizas de seguro de invalidez] |\n",
        ">80 | ABRAND | Number of fire policies [Número de pólizas de incendio] |\n",
        ">81 | AZEILPL | Number of surfboard policies [Número de pólizas de tabla de surf] |\n",
        ">82 | APLEZIER | Number of boat policies [Número de pólizas de barco] |\n",
        ">83 | AFIETS | Number of bicycle policies [Número de pólizas de bicicletas] |\n",
        ">84 | AINBOED | Number of property insurance policies [Número de pólizas de seguro de propiedad (terreno)] |\n",
        ">85 | ABYSTAND | Number of social security insurance policies [Número de pólizas de seguro social] |\n",
        ">86 | CARAVAN | Number of mobile home policies [Número de pólizas de caravana (casa móvil)] | 0: No adquiere póliza, 1: Adquiere póliza"
      ]
    },
    {
      "cell_type": "markdown",
      "metadata": {
        "id": "CcGNcCWyaNv-",
        "colab_type": "text"
      },
      "source": [
        "#Librerías a utilizar\n",
        "\n"
      ]
    },
    {
      "cell_type": "code",
      "metadata": {
        "id": "PT7i4TY6DLCu",
        "colab_type": "code",
        "colab": {
          "base_uri": "https://localhost:8080/",
          "height": 71
        },
        "outputId": "25fa43ce-939d-45e9-ae21-09f4e11f4963"
      },
      "source": [
        "import pandas as pd\n",
        "import numpy as np\n",
        "import matplotlib.pyplot as plt\n",
        "import seaborn as sns\n",
        "from sklearn import metrics"
      ],
      "execution_count": 1,
      "outputs": [
        {
          "output_type": "stream",
          "text": [
            "/usr/local/lib/python3.6/dist-packages/statsmodels/tools/_testing.py:19: FutureWarning: pandas.util.testing is deprecated. Use the functions in the public API at pandas.testing instead.\n",
            "  import pandas.util.testing as tm\n"
          ],
          "name": "stderr"
        }
      ]
    },
    {
      "cell_type": "markdown",
      "metadata": {
        "id": "Zv9Xdo0S5ERI",
        "colab_type": "text"
      },
      "source": [
        "#Importación de la data"
      ]
    },
    {
      "cell_type": "code",
      "metadata": {
        "id": "2ZdetC9iEI44",
        "colab_type": "code",
        "colab": {}
      },
      "source": [
        "#cargamos todo dataset unificado:\n",
        "#fuente: https://www.kaggle.com/uciml/caravan-insurance-challenge?select=caravan-insurance-challenge.csv\n",
        "dataset = pd.read_csv('https://docs.google.com/spreadsheets/d/e/2PACX-1vT8_pm-KCsEYJZaMTPpL0ra9SsGg651df1I_Szel-GhqhWdu5oOqsQcR0c5Igaav6DLu_gjjxpLgWTZ/pub?gid=627111359&single=true&output=csv')"
      ],
      "execution_count": 2,
      "outputs": []
    },
    {
      "cell_type": "code",
      "metadata": {
        "id": "qVd6Vn6Lap4o",
        "colab_type": "code",
        "colab": {}
      },
      "source": [
        "#obtenemos los principales datasets\n",
        "features = dataset.drop(['ORIGIN','CARAVAN'], axis=1)\n",
        "train = dataset[dataset.ORIGIN==\"train\"]\n",
        "test = dataset[dataset.ORIGIN==\"test\"]"
      ],
      "execution_count": 3,
      "outputs": []
    },
    {
      "cell_type": "markdown",
      "metadata": {
        "id": "hKKJjc6oD3Qp",
        "colab_type": "text"
      },
      "source": [
        "#Exploración de la Data "
      ]
    },
    {
      "cell_type": "code",
      "metadata": {
        "id": "nZCqW-dQEIbU",
        "colab_type": "code",
        "colab": {
          "base_uri": "https://localhost:8080/",
          "height": 253
        },
        "outputId": "78065eab-0180-4be8-85e3-74cb6b3b2619"
      },
      "source": [
        "dataset.head()"
      ],
      "execution_count": 4,
      "outputs": [
        {
          "output_type": "execute_result",
          "data": {
            "text/html": [
              "<div>\n",
              "<style scoped>\n",
              "    .dataframe tbody tr th:only-of-type {\n",
              "        vertical-align: middle;\n",
              "    }\n",
              "\n",
              "    .dataframe tbody tr th {\n",
              "        vertical-align: top;\n",
              "    }\n",
              "\n",
              "    .dataframe thead th {\n",
              "        text-align: right;\n",
              "    }\n",
              "</style>\n",
              "<table border=\"1\" class=\"dataframe\">\n",
              "  <thead>\n",
              "    <tr style=\"text-align: right;\">\n",
              "      <th></th>\n",
              "      <th>ORIGIN</th>\n",
              "      <th>MOSTYPE</th>\n",
              "      <th>MAANTHUI</th>\n",
              "      <th>MGEMOMV</th>\n",
              "      <th>MGEMLEEF</th>\n",
              "      <th>MOSHOOFD</th>\n",
              "      <th>MGODRK</th>\n",
              "      <th>MGODPR</th>\n",
              "      <th>MGODOV</th>\n",
              "      <th>MGODGE</th>\n",
              "      <th>MRELGE</th>\n",
              "      <th>MRELSA</th>\n",
              "      <th>MRELOV</th>\n",
              "      <th>MFALLEEN</th>\n",
              "      <th>MFGEKIND</th>\n",
              "      <th>MFWEKIND</th>\n",
              "      <th>MOPLHOOG</th>\n",
              "      <th>MOPLMIDD</th>\n",
              "      <th>MOPLLAAG</th>\n",
              "      <th>MBERHOOG</th>\n",
              "      <th>MBERZELF</th>\n",
              "      <th>MBERBOER</th>\n",
              "      <th>MBERMIDD</th>\n",
              "      <th>MBERARBG</th>\n",
              "      <th>MBERARBO</th>\n",
              "      <th>MSKA</th>\n",
              "      <th>MSKB1</th>\n",
              "      <th>MSKB2</th>\n",
              "      <th>MSKC</th>\n",
              "      <th>MSKD</th>\n",
              "      <th>MHHUUR</th>\n",
              "      <th>MHKOOP</th>\n",
              "      <th>MAUT1</th>\n",
              "      <th>MAUT2</th>\n",
              "      <th>MAUT0</th>\n",
              "      <th>MZFONDS</th>\n",
              "      <th>MZPART</th>\n",
              "      <th>MINKM30</th>\n",
              "      <th>MINK3045</th>\n",
              "      <th>MINK4575</th>\n",
              "      <th>...</th>\n",
              "      <th>PPERSAUT</th>\n",
              "      <th>PBESAUT</th>\n",
              "      <th>PMOTSCO</th>\n",
              "      <th>PVRAAUT</th>\n",
              "      <th>PAANHANG</th>\n",
              "      <th>PTRACTOR</th>\n",
              "      <th>PWERKT</th>\n",
              "      <th>PBROM</th>\n",
              "      <th>PLEVEN</th>\n",
              "      <th>PPERSONG</th>\n",
              "      <th>PGEZONG</th>\n",
              "      <th>PWAOREG</th>\n",
              "      <th>PBRAND</th>\n",
              "      <th>PZEILPL</th>\n",
              "      <th>PPLEZIER</th>\n",
              "      <th>PFIETS</th>\n",
              "      <th>PINBOED</th>\n",
              "      <th>PBYSTAND</th>\n",
              "      <th>AWAPART</th>\n",
              "      <th>AWABEDR</th>\n",
              "      <th>AWALAND</th>\n",
              "      <th>APERSAUT</th>\n",
              "      <th>ABESAUT</th>\n",
              "      <th>AMOTSCO</th>\n",
              "      <th>AVRAAUT</th>\n",
              "      <th>AAANHANG</th>\n",
              "      <th>ATRACTOR</th>\n",
              "      <th>AWERKT</th>\n",
              "      <th>ABROM</th>\n",
              "      <th>ALEVEN</th>\n",
              "      <th>APERSONG</th>\n",
              "      <th>AGEZONG</th>\n",
              "      <th>AWAOREG</th>\n",
              "      <th>ABRAND</th>\n",
              "      <th>AZEILPL</th>\n",
              "      <th>APLEZIER</th>\n",
              "      <th>AFIETS</th>\n",
              "      <th>AINBOED</th>\n",
              "      <th>ABYSTAND</th>\n",
              "      <th>CARAVAN</th>\n",
              "    </tr>\n",
              "  </thead>\n",
              "  <tbody>\n",
              "    <tr>\n",
              "      <th>0</th>\n",
              "      <td>train</td>\n",
              "      <td>33</td>\n",
              "      <td>1</td>\n",
              "      <td>3</td>\n",
              "      <td>2</td>\n",
              "      <td>8</td>\n",
              "      <td>0</td>\n",
              "      <td>5</td>\n",
              "      <td>1</td>\n",
              "      <td>3</td>\n",
              "      <td>7</td>\n",
              "      <td>0</td>\n",
              "      <td>2</td>\n",
              "      <td>1</td>\n",
              "      <td>2</td>\n",
              "      <td>6</td>\n",
              "      <td>1</td>\n",
              "      <td>2</td>\n",
              "      <td>7</td>\n",
              "      <td>1</td>\n",
              "      <td>0</td>\n",
              "      <td>1</td>\n",
              "      <td>2</td>\n",
              "      <td>5</td>\n",
              "      <td>2</td>\n",
              "      <td>1</td>\n",
              "      <td>1</td>\n",
              "      <td>2</td>\n",
              "      <td>6</td>\n",
              "      <td>1</td>\n",
              "      <td>1</td>\n",
              "      <td>8</td>\n",
              "      <td>8</td>\n",
              "      <td>0</td>\n",
              "      <td>1</td>\n",
              "      <td>8</td>\n",
              "      <td>1</td>\n",
              "      <td>0</td>\n",
              "      <td>4</td>\n",
              "      <td>5</td>\n",
              "      <td>...</td>\n",
              "      <td>6</td>\n",
              "      <td>0</td>\n",
              "      <td>0</td>\n",
              "      <td>0</td>\n",
              "      <td>0</td>\n",
              "      <td>0</td>\n",
              "      <td>0</td>\n",
              "      <td>0</td>\n",
              "      <td>0</td>\n",
              "      <td>0</td>\n",
              "      <td>0</td>\n",
              "      <td>0</td>\n",
              "      <td>5</td>\n",
              "      <td>0</td>\n",
              "      <td>0</td>\n",
              "      <td>0</td>\n",
              "      <td>0</td>\n",
              "      <td>0</td>\n",
              "      <td>0</td>\n",
              "      <td>0</td>\n",
              "      <td>0</td>\n",
              "      <td>1</td>\n",
              "      <td>0</td>\n",
              "      <td>0</td>\n",
              "      <td>0</td>\n",
              "      <td>0</td>\n",
              "      <td>0</td>\n",
              "      <td>0</td>\n",
              "      <td>0</td>\n",
              "      <td>0</td>\n",
              "      <td>0</td>\n",
              "      <td>0</td>\n",
              "      <td>0</td>\n",
              "      <td>1</td>\n",
              "      <td>0</td>\n",
              "      <td>0</td>\n",
              "      <td>0</td>\n",
              "      <td>0</td>\n",
              "      <td>0</td>\n",
              "      <td>0</td>\n",
              "    </tr>\n",
              "    <tr>\n",
              "      <th>1</th>\n",
              "      <td>train</td>\n",
              "      <td>37</td>\n",
              "      <td>1</td>\n",
              "      <td>2</td>\n",
              "      <td>2</td>\n",
              "      <td>8</td>\n",
              "      <td>1</td>\n",
              "      <td>4</td>\n",
              "      <td>1</td>\n",
              "      <td>4</td>\n",
              "      <td>6</td>\n",
              "      <td>2</td>\n",
              "      <td>2</td>\n",
              "      <td>0</td>\n",
              "      <td>4</td>\n",
              "      <td>5</td>\n",
              "      <td>0</td>\n",
              "      <td>5</td>\n",
              "      <td>4</td>\n",
              "      <td>0</td>\n",
              "      <td>0</td>\n",
              "      <td>0</td>\n",
              "      <td>5</td>\n",
              "      <td>0</td>\n",
              "      <td>4</td>\n",
              "      <td>0</td>\n",
              "      <td>2</td>\n",
              "      <td>3</td>\n",
              "      <td>5</td>\n",
              "      <td>0</td>\n",
              "      <td>2</td>\n",
              "      <td>7</td>\n",
              "      <td>7</td>\n",
              "      <td>1</td>\n",
              "      <td>2</td>\n",
              "      <td>6</td>\n",
              "      <td>3</td>\n",
              "      <td>2</td>\n",
              "      <td>0</td>\n",
              "      <td>5</td>\n",
              "      <td>...</td>\n",
              "      <td>0</td>\n",
              "      <td>0</td>\n",
              "      <td>0</td>\n",
              "      <td>0</td>\n",
              "      <td>0</td>\n",
              "      <td>0</td>\n",
              "      <td>0</td>\n",
              "      <td>0</td>\n",
              "      <td>0</td>\n",
              "      <td>0</td>\n",
              "      <td>0</td>\n",
              "      <td>0</td>\n",
              "      <td>2</td>\n",
              "      <td>0</td>\n",
              "      <td>0</td>\n",
              "      <td>0</td>\n",
              "      <td>0</td>\n",
              "      <td>0</td>\n",
              "      <td>2</td>\n",
              "      <td>0</td>\n",
              "      <td>0</td>\n",
              "      <td>0</td>\n",
              "      <td>0</td>\n",
              "      <td>0</td>\n",
              "      <td>0</td>\n",
              "      <td>0</td>\n",
              "      <td>0</td>\n",
              "      <td>0</td>\n",
              "      <td>0</td>\n",
              "      <td>0</td>\n",
              "      <td>0</td>\n",
              "      <td>0</td>\n",
              "      <td>0</td>\n",
              "      <td>1</td>\n",
              "      <td>0</td>\n",
              "      <td>0</td>\n",
              "      <td>0</td>\n",
              "      <td>0</td>\n",
              "      <td>0</td>\n",
              "      <td>0</td>\n",
              "    </tr>\n",
              "    <tr>\n",
              "      <th>2</th>\n",
              "      <td>train</td>\n",
              "      <td>37</td>\n",
              "      <td>1</td>\n",
              "      <td>2</td>\n",
              "      <td>2</td>\n",
              "      <td>8</td>\n",
              "      <td>0</td>\n",
              "      <td>4</td>\n",
              "      <td>2</td>\n",
              "      <td>4</td>\n",
              "      <td>3</td>\n",
              "      <td>2</td>\n",
              "      <td>4</td>\n",
              "      <td>4</td>\n",
              "      <td>4</td>\n",
              "      <td>2</td>\n",
              "      <td>0</td>\n",
              "      <td>5</td>\n",
              "      <td>4</td>\n",
              "      <td>0</td>\n",
              "      <td>0</td>\n",
              "      <td>0</td>\n",
              "      <td>7</td>\n",
              "      <td>0</td>\n",
              "      <td>2</td>\n",
              "      <td>0</td>\n",
              "      <td>5</td>\n",
              "      <td>0</td>\n",
              "      <td>4</td>\n",
              "      <td>0</td>\n",
              "      <td>7</td>\n",
              "      <td>2</td>\n",
              "      <td>7</td>\n",
              "      <td>0</td>\n",
              "      <td>2</td>\n",
              "      <td>9</td>\n",
              "      <td>0</td>\n",
              "      <td>4</td>\n",
              "      <td>5</td>\n",
              "      <td>0</td>\n",
              "      <td>...</td>\n",
              "      <td>6</td>\n",
              "      <td>0</td>\n",
              "      <td>0</td>\n",
              "      <td>0</td>\n",
              "      <td>0</td>\n",
              "      <td>0</td>\n",
              "      <td>0</td>\n",
              "      <td>0</td>\n",
              "      <td>0</td>\n",
              "      <td>0</td>\n",
              "      <td>0</td>\n",
              "      <td>0</td>\n",
              "      <td>2</td>\n",
              "      <td>0</td>\n",
              "      <td>0</td>\n",
              "      <td>0</td>\n",
              "      <td>0</td>\n",
              "      <td>0</td>\n",
              "      <td>1</td>\n",
              "      <td>0</td>\n",
              "      <td>0</td>\n",
              "      <td>1</td>\n",
              "      <td>0</td>\n",
              "      <td>0</td>\n",
              "      <td>0</td>\n",
              "      <td>0</td>\n",
              "      <td>0</td>\n",
              "      <td>0</td>\n",
              "      <td>0</td>\n",
              "      <td>0</td>\n",
              "      <td>0</td>\n",
              "      <td>0</td>\n",
              "      <td>0</td>\n",
              "      <td>1</td>\n",
              "      <td>0</td>\n",
              "      <td>0</td>\n",
              "      <td>0</td>\n",
              "      <td>0</td>\n",
              "      <td>0</td>\n",
              "      <td>0</td>\n",
              "    </tr>\n",
              "    <tr>\n",
              "      <th>3</th>\n",
              "      <td>train</td>\n",
              "      <td>9</td>\n",
              "      <td>1</td>\n",
              "      <td>3</td>\n",
              "      <td>3</td>\n",
              "      <td>3</td>\n",
              "      <td>2</td>\n",
              "      <td>3</td>\n",
              "      <td>2</td>\n",
              "      <td>4</td>\n",
              "      <td>5</td>\n",
              "      <td>2</td>\n",
              "      <td>2</td>\n",
              "      <td>2</td>\n",
              "      <td>3</td>\n",
              "      <td>4</td>\n",
              "      <td>3</td>\n",
              "      <td>4</td>\n",
              "      <td>2</td>\n",
              "      <td>4</td>\n",
              "      <td>0</td>\n",
              "      <td>0</td>\n",
              "      <td>3</td>\n",
              "      <td>1</td>\n",
              "      <td>2</td>\n",
              "      <td>3</td>\n",
              "      <td>2</td>\n",
              "      <td>1</td>\n",
              "      <td>4</td>\n",
              "      <td>0</td>\n",
              "      <td>5</td>\n",
              "      <td>4</td>\n",
              "      <td>9</td>\n",
              "      <td>0</td>\n",
              "      <td>0</td>\n",
              "      <td>7</td>\n",
              "      <td>2</td>\n",
              "      <td>1</td>\n",
              "      <td>5</td>\n",
              "      <td>3</td>\n",
              "      <td>...</td>\n",
              "      <td>6</td>\n",
              "      <td>0</td>\n",
              "      <td>0</td>\n",
              "      <td>0</td>\n",
              "      <td>0</td>\n",
              "      <td>0</td>\n",
              "      <td>0</td>\n",
              "      <td>0</td>\n",
              "      <td>0</td>\n",
              "      <td>0</td>\n",
              "      <td>0</td>\n",
              "      <td>0</td>\n",
              "      <td>2</td>\n",
              "      <td>0</td>\n",
              "      <td>0</td>\n",
              "      <td>0</td>\n",
              "      <td>0</td>\n",
              "      <td>0</td>\n",
              "      <td>0</td>\n",
              "      <td>0</td>\n",
              "      <td>0</td>\n",
              "      <td>1</td>\n",
              "      <td>0</td>\n",
              "      <td>0</td>\n",
              "      <td>0</td>\n",
              "      <td>0</td>\n",
              "      <td>0</td>\n",
              "      <td>0</td>\n",
              "      <td>0</td>\n",
              "      <td>0</td>\n",
              "      <td>0</td>\n",
              "      <td>0</td>\n",
              "      <td>0</td>\n",
              "      <td>1</td>\n",
              "      <td>0</td>\n",
              "      <td>0</td>\n",
              "      <td>0</td>\n",
              "      <td>0</td>\n",
              "      <td>0</td>\n",
              "      <td>0</td>\n",
              "    </tr>\n",
              "    <tr>\n",
              "      <th>4</th>\n",
              "      <td>train</td>\n",
              "      <td>40</td>\n",
              "      <td>1</td>\n",
              "      <td>4</td>\n",
              "      <td>2</td>\n",
              "      <td>10</td>\n",
              "      <td>1</td>\n",
              "      <td>4</td>\n",
              "      <td>1</td>\n",
              "      <td>4</td>\n",
              "      <td>7</td>\n",
              "      <td>1</td>\n",
              "      <td>2</td>\n",
              "      <td>2</td>\n",
              "      <td>4</td>\n",
              "      <td>4</td>\n",
              "      <td>5</td>\n",
              "      <td>4</td>\n",
              "      <td>0</td>\n",
              "      <td>0</td>\n",
              "      <td>5</td>\n",
              "      <td>4</td>\n",
              "      <td>0</td>\n",
              "      <td>0</td>\n",
              "      <td>0</td>\n",
              "      <td>9</td>\n",
              "      <td>0</td>\n",
              "      <td>0</td>\n",
              "      <td>0</td>\n",
              "      <td>0</td>\n",
              "      <td>4</td>\n",
              "      <td>5</td>\n",
              "      <td>6</td>\n",
              "      <td>2</td>\n",
              "      <td>1</td>\n",
              "      <td>5</td>\n",
              "      <td>4</td>\n",
              "      <td>0</td>\n",
              "      <td>0</td>\n",
              "      <td>9</td>\n",
              "      <td>...</td>\n",
              "      <td>0</td>\n",
              "      <td>0</td>\n",
              "      <td>0</td>\n",
              "      <td>0</td>\n",
              "      <td>0</td>\n",
              "      <td>0</td>\n",
              "      <td>0</td>\n",
              "      <td>0</td>\n",
              "      <td>0</td>\n",
              "      <td>0</td>\n",
              "      <td>0</td>\n",
              "      <td>0</td>\n",
              "      <td>6</td>\n",
              "      <td>0</td>\n",
              "      <td>0</td>\n",
              "      <td>0</td>\n",
              "      <td>0</td>\n",
              "      <td>0</td>\n",
              "      <td>0</td>\n",
              "      <td>0</td>\n",
              "      <td>0</td>\n",
              "      <td>0</td>\n",
              "      <td>0</td>\n",
              "      <td>0</td>\n",
              "      <td>0</td>\n",
              "      <td>0</td>\n",
              "      <td>0</td>\n",
              "      <td>0</td>\n",
              "      <td>0</td>\n",
              "      <td>0</td>\n",
              "      <td>0</td>\n",
              "      <td>0</td>\n",
              "      <td>0</td>\n",
              "      <td>1</td>\n",
              "      <td>0</td>\n",
              "      <td>0</td>\n",
              "      <td>0</td>\n",
              "      <td>0</td>\n",
              "      <td>0</td>\n",
              "      <td>0</td>\n",
              "    </tr>\n",
              "  </tbody>\n",
              "</table>\n",
              "<p>5 rows × 87 columns</p>\n",
              "</div>"
            ],
            "text/plain": [
              "  ORIGIN  MOSTYPE  MAANTHUI  MGEMOMV  ...  AFIETS  AINBOED  ABYSTAND  CARAVAN\n",
              "0  train       33         1        3  ...       0        0         0        0\n",
              "1  train       37         1        2  ...       0        0         0        0\n",
              "2  train       37         1        2  ...       0        0         0        0\n",
              "3  train        9         1        3  ...       0        0         0        0\n",
              "4  train       40         1        4  ...       0        0         0        0\n",
              "\n",
              "[5 rows x 87 columns]"
            ]
          },
          "metadata": {
            "tags": []
          },
          "execution_count": 4
        }
      ]
    },
    {
      "cell_type": "code",
      "metadata": {
        "id": "gOnLMkwlcK0K",
        "colab_type": "code",
        "colab": {
          "base_uri": "https://localhost:8080/",
          "height": 34
        },
        "outputId": "e5d9a2af-f3f0-49b0-807f-475d32efc5f2"
      },
      "source": [
        "dataset.shape, train.shape, test.shape"
      ],
      "execution_count": 5,
      "outputs": [
        {
          "output_type": "execute_result",
          "data": {
            "text/plain": [
              "((9822, 87), (5822, 87), (4000, 87))"
            ]
          },
          "metadata": {
            "tags": []
          },
          "execution_count": 5
        }
      ]
    },
    {
      "cell_type": "code",
      "metadata": {
        "id": "0gKoqKW5JX8W",
        "colab_type": "code",
        "colab": {
          "base_uri": "https://localhost:8080/",
          "height": 253
        },
        "outputId": "cebf5f5c-140b-4731-d2be-937edb0cac29"
      },
      "source": [
        "features.head()"
      ],
      "execution_count": 6,
      "outputs": [
        {
          "output_type": "execute_result",
          "data": {
            "text/html": [
              "<div>\n",
              "<style scoped>\n",
              "    .dataframe tbody tr th:only-of-type {\n",
              "        vertical-align: middle;\n",
              "    }\n",
              "\n",
              "    .dataframe tbody tr th {\n",
              "        vertical-align: top;\n",
              "    }\n",
              "\n",
              "    .dataframe thead th {\n",
              "        text-align: right;\n",
              "    }\n",
              "</style>\n",
              "<table border=\"1\" class=\"dataframe\">\n",
              "  <thead>\n",
              "    <tr style=\"text-align: right;\">\n",
              "      <th></th>\n",
              "      <th>MOSTYPE</th>\n",
              "      <th>MAANTHUI</th>\n",
              "      <th>MGEMOMV</th>\n",
              "      <th>MGEMLEEF</th>\n",
              "      <th>MOSHOOFD</th>\n",
              "      <th>MGODRK</th>\n",
              "      <th>MGODPR</th>\n",
              "      <th>MGODOV</th>\n",
              "      <th>MGODGE</th>\n",
              "      <th>MRELGE</th>\n",
              "      <th>MRELSA</th>\n",
              "      <th>MRELOV</th>\n",
              "      <th>MFALLEEN</th>\n",
              "      <th>MFGEKIND</th>\n",
              "      <th>MFWEKIND</th>\n",
              "      <th>MOPLHOOG</th>\n",
              "      <th>MOPLMIDD</th>\n",
              "      <th>MOPLLAAG</th>\n",
              "      <th>MBERHOOG</th>\n",
              "      <th>MBERZELF</th>\n",
              "      <th>MBERBOER</th>\n",
              "      <th>MBERMIDD</th>\n",
              "      <th>MBERARBG</th>\n",
              "      <th>MBERARBO</th>\n",
              "      <th>MSKA</th>\n",
              "      <th>MSKB1</th>\n",
              "      <th>MSKB2</th>\n",
              "      <th>MSKC</th>\n",
              "      <th>MSKD</th>\n",
              "      <th>MHHUUR</th>\n",
              "      <th>MHKOOP</th>\n",
              "      <th>MAUT1</th>\n",
              "      <th>MAUT2</th>\n",
              "      <th>MAUT0</th>\n",
              "      <th>MZFONDS</th>\n",
              "      <th>MZPART</th>\n",
              "      <th>MINKM30</th>\n",
              "      <th>MINK3045</th>\n",
              "      <th>MINK4575</th>\n",
              "      <th>MINK7512</th>\n",
              "      <th>...</th>\n",
              "      <th>PWALAND</th>\n",
              "      <th>PPERSAUT</th>\n",
              "      <th>PBESAUT</th>\n",
              "      <th>PMOTSCO</th>\n",
              "      <th>PVRAAUT</th>\n",
              "      <th>PAANHANG</th>\n",
              "      <th>PTRACTOR</th>\n",
              "      <th>PWERKT</th>\n",
              "      <th>PBROM</th>\n",
              "      <th>PLEVEN</th>\n",
              "      <th>PPERSONG</th>\n",
              "      <th>PGEZONG</th>\n",
              "      <th>PWAOREG</th>\n",
              "      <th>PBRAND</th>\n",
              "      <th>PZEILPL</th>\n",
              "      <th>PPLEZIER</th>\n",
              "      <th>PFIETS</th>\n",
              "      <th>PINBOED</th>\n",
              "      <th>PBYSTAND</th>\n",
              "      <th>AWAPART</th>\n",
              "      <th>AWABEDR</th>\n",
              "      <th>AWALAND</th>\n",
              "      <th>APERSAUT</th>\n",
              "      <th>ABESAUT</th>\n",
              "      <th>AMOTSCO</th>\n",
              "      <th>AVRAAUT</th>\n",
              "      <th>AAANHANG</th>\n",
              "      <th>ATRACTOR</th>\n",
              "      <th>AWERKT</th>\n",
              "      <th>ABROM</th>\n",
              "      <th>ALEVEN</th>\n",
              "      <th>APERSONG</th>\n",
              "      <th>AGEZONG</th>\n",
              "      <th>AWAOREG</th>\n",
              "      <th>ABRAND</th>\n",
              "      <th>AZEILPL</th>\n",
              "      <th>APLEZIER</th>\n",
              "      <th>AFIETS</th>\n",
              "      <th>AINBOED</th>\n",
              "      <th>ABYSTAND</th>\n",
              "    </tr>\n",
              "  </thead>\n",
              "  <tbody>\n",
              "    <tr>\n",
              "      <th>0</th>\n",
              "      <td>33</td>\n",
              "      <td>1</td>\n",
              "      <td>3</td>\n",
              "      <td>2</td>\n",
              "      <td>8</td>\n",
              "      <td>0</td>\n",
              "      <td>5</td>\n",
              "      <td>1</td>\n",
              "      <td>3</td>\n",
              "      <td>7</td>\n",
              "      <td>0</td>\n",
              "      <td>2</td>\n",
              "      <td>1</td>\n",
              "      <td>2</td>\n",
              "      <td>6</td>\n",
              "      <td>1</td>\n",
              "      <td>2</td>\n",
              "      <td>7</td>\n",
              "      <td>1</td>\n",
              "      <td>0</td>\n",
              "      <td>1</td>\n",
              "      <td>2</td>\n",
              "      <td>5</td>\n",
              "      <td>2</td>\n",
              "      <td>1</td>\n",
              "      <td>1</td>\n",
              "      <td>2</td>\n",
              "      <td>6</td>\n",
              "      <td>1</td>\n",
              "      <td>1</td>\n",
              "      <td>8</td>\n",
              "      <td>8</td>\n",
              "      <td>0</td>\n",
              "      <td>1</td>\n",
              "      <td>8</td>\n",
              "      <td>1</td>\n",
              "      <td>0</td>\n",
              "      <td>4</td>\n",
              "      <td>5</td>\n",
              "      <td>0</td>\n",
              "      <td>...</td>\n",
              "      <td>0</td>\n",
              "      <td>6</td>\n",
              "      <td>0</td>\n",
              "      <td>0</td>\n",
              "      <td>0</td>\n",
              "      <td>0</td>\n",
              "      <td>0</td>\n",
              "      <td>0</td>\n",
              "      <td>0</td>\n",
              "      <td>0</td>\n",
              "      <td>0</td>\n",
              "      <td>0</td>\n",
              "      <td>0</td>\n",
              "      <td>5</td>\n",
              "      <td>0</td>\n",
              "      <td>0</td>\n",
              "      <td>0</td>\n",
              "      <td>0</td>\n",
              "      <td>0</td>\n",
              "      <td>0</td>\n",
              "      <td>0</td>\n",
              "      <td>0</td>\n",
              "      <td>1</td>\n",
              "      <td>0</td>\n",
              "      <td>0</td>\n",
              "      <td>0</td>\n",
              "      <td>0</td>\n",
              "      <td>0</td>\n",
              "      <td>0</td>\n",
              "      <td>0</td>\n",
              "      <td>0</td>\n",
              "      <td>0</td>\n",
              "      <td>0</td>\n",
              "      <td>0</td>\n",
              "      <td>1</td>\n",
              "      <td>0</td>\n",
              "      <td>0</td>\n",
              "      <td>0</td>\n",
              "      <td>0</td>\n",
              "      <td>0</td>\n",
              "    </tr>\n",
              "    <tr>\n",
              "      <th>1</th>\n",
              "      <td>37</td>\n",
              "      <td>1</td>\n",
              "      <td>2</td>\n",
              "      <td>2</td>\n",
              "      <td>8</td>\n",
              "      <td>1</td>\n",
              "      <td>4</td>\n",
              "      <td>1</td>\n",
              "      <td>4</td>\n",
              "      <td>6</td>\n",
              "      <td>2</td>\n",
              "      <td>2</td>\n",
              "      <td>0</td>\n",
              "      <td>4</td>\n",
              "      <td>5</td>\n",
              "      <td>0</td>\n",
              "      <td>5</td>\n",
              "      <td>4</td>\n",
              "      <td>0</td>\n",
              "      <td>0</td>\n",
              "      <td>0</td>\n",
              "      <td>5</td>\n",
              "      <td>0</td>\n",
              "      <td>4</td>\n",
              "      <td>0</td>\n",
              "      <td>2</td>\n",
              "      <td>3</td>\n",
              "      <td>5</td>\n",
              "      <td>0</td>\n",
              "      <td>2</td>\n",
              "      <td>7</td>\n",
              "      <td>7</td>\n",
              "      <td>1</td>\n",
              "      <td>2</td>\n",
              "      <td>6</td>\n",
              "      <td>3</td>\n",
              "      <td>2</td>\n",
              "      <td>0</td>\n",
              "      <td>5</td>\n",
              "      <td>2</td>\n",
              "      <td>...</td>\n",
              "      <td>0</td>\n",
              "      <td>0</td>\n",
              "      <td>0</td>\n",
              "      <td>0</td>\n",
              "      <td>0</td>\n",
              "      <td>0</td>\n",
              "      <td>0</td>\n",
              "      <td>0</td>\n",
              "      <td>0</td>\n",
              "      <td>0</td>\n",
              "      <td>0</td>\n",
              "      <td>0</td>\n",
              "      <td>0</td>\n",
              "      <td>2</td>\n",
              "      <td>0</td>\n",
              "      <td>0</td>\n",
              "      <td>0</td>\n",
              "      <td>0</td>\n",
              "      <td>0</td>\n",
              "      <td>2</td>\n",
              "      <td>0</td>\n",
              "      <td>0</td>\n",
              "      <td>0</td>\n",
              "      <td>0</td>\n",
              "      <td>0</td>\n",
              "      <td>0</td>\n",
              "      <td>0</td>\n",
              "      <td>0</td>\n",
              "      <td>0</td>\n",
              "      <td>0</td>\n",
              "      <td>0</td>\n",
              "      <td>0</td>\n",
              "      <td>0</td>\n",
              "      <td>0</td>\n",
              "      <td>1</td>\n",
              "      <td>0</td>\n",
              "      <td>0</td>\n",
              "      <td>0</td>\n",
              "      <td>0</td>\n",
              "      <td>0</td>\n",
              "    </tr>\n",
              "    <tr>\n",
              "      <th>2</th>\n",
              "      <td>37</td>\n",
              "      <td>1</td>\n",
              "      <td>2</td>\n",
              "      <td>2</td>\n",
              "      <td>8</td>\n",
              "      <td>0</td>\n",
              "      <td>4</td>\n",
              "      <td>2</td>\n",
              "      <td>4</td>\n",
              "      <td>3</td>\n",
              "      <td>2</td>\n",
              "      <td>4</td>\n",
              "      <td>4</td>\n",
              "      <td>4</td>\n",
              "      <td>2</td>\n",
              "      <td>0</td>\n",
              "      <td>5</td>\n",
              "      <td>4</td>\n",
              "      <td>0</td>\n",
              "      <td>0</td>\n",
              "      <td>0</td>\n",
              "      <td>7</td>\n",
              "      <td>0</td>\n",
              "      <td>2</td>\n",
              "      <td>0</td>\n",
              "      <td>5</td>\n",
              "      <td>0</td>\n",
              "      <td>4</td>\n",
              "      <td>0</td>\n",
              "      <td>7</td>\n",
              "      <td>2</td>\n",
              "      <td>7</td>\n",
              "      <td>0</td>\n",
              "      <td>2</td>\n",
              "      <td>9</td>\n",
              "      <td>0</td>\n",
              "      <td>4</td>\n",
              "      <td>5</td>\n",
              "      <td>0</td>\n",
              "      <td>0</td>\n",
              "      <td>...</td>\n",
              "      <td>0</td>\n",
              "      <td>6</td>\n",
              "      <td>0</td>\n",
              "      <td>0</td>\n",
              "      <td>0</td>\n",
              "      <td>0</td>\n",
              "      <td>0</td>\n",
              "      <td>0</td>\n",
              "      <td>0</td>\n",
              "      <td>0</td>\n",
              "      <td>0</td>\n",
              "      <td>0</td>\n",
              "      <td>0</td>\n",
              "      <td>2</td>\n",
              "      <td>0</td>\n",
              "      <td>0</td>\n",
              "      <td>0</td>\n",
              "      <td>0</td>\n",
              "      <td>0</td>\n",
              "      <td>1</td>\n",
              "      <td>0</td>\n",
              "      <td>0</td>\n",
              "      <td>1</td>\n",
              "      <td>0</td>\n",
              "      <td>0</td>\n",
              "      <td>0</td>\n",
              "      <td>0</td>\n",
              "      <td>0</td>\n",
              "      <td>0</td>\n",
              "      <td>0</td>\n",
              "      <td>0</td>\n",
              "      <td>0</td>\n",
              "      <td>0</td>\n",
              "      <td>0</td>\n",
              "      <td>1</td>\n",
              "      <td>0</td>\n",
              "      <td>0</td>\n",
              "      <td>0</td>\n",
              "      <td>0</td>\n",
              "      <td>0</td>\n",
              "    </tr>\n",
              "    <tr>\n",
              "      <th>3</th>\n",
              "      <td>9</td>\n",
              "      <td>1</td>\n",
              "      <td>3</td>\n",
              "      <td>3</td>\n",
              "      <td>3</td>\n",
              "      <td>2</td>\n",
              "      <td>3</td>\n",
              "      <td>2</td>\n",
              "      <td>4</td>\n",
              "      <td>5</td>\n",
              "      <td>2</td>\n",
              "      <td>2</td>\n",
              "      <td>2</td>\n",
              "      <td>3</td>\n",
              "      <td>4</td>\n",
              "      <td>3</td>\n",
              "      <td>4</td>\n",
              "      <td>2</td>\n",
              "      <td>4</td>\n",
              "      <td>0</td>\n",
              "      <td>0</td>\n",
              "      <td>3</td>\n",
              "      <td>1</td>\n",
              "      <td>2</td>\n",
              "      <td>3</td>\n",
              "      <td>2</td>\n",
              "      <td>1</td>\n",
              "      <td>4</td>\n",
              "      <td>0</td>\n",
              "      <td>5</td>\n",
              "      <td>4</td>\n",
              "      <td>9</td>\n",
              "      <td>0</td>\n",
              "      <td>0</td>\n",
              "      <td>7</td>\n",
              "      <td>2</td>\n",
              "      <td>1</td>\n",
              "      <td>5</td>\n",
              "      <td>3</td>\n",
              "      <td>0</td>\n",
              "      <td>...</td>\n",
              "      <td>0</td>\n",
              "      <td>6</td>\n",
              "      <td>0</td>\n",
              "      <td>0</td>\n",
              "      <td>0</td>\n",
              "      <td>0</td>\n",
              "      <td>0</td>\n",
              "      <td>0</td>\n",
              "      <td>0</td>\n",
              "      <td>0</td>\n",
              "      <td>0</td>\n",
              "      <td>0</td>\n",
              "      <td>0</td>\n",
              "      <td>2</td>\n",
              "      <td>0</td>\n",
              "      <td>0</td>\n",
              "      <td>0</td>\n",
              "      <td>0</td>\n",
              "      <td>0</td>\n",
              "      <td>0</td>\n",
              "      <td>0</td>\n",
              "      <td>0</td>\n",
              "      <td>1</td>\n",
              "      <td>0</td>\n",
              "      <td>0</td>\n",
              "      <td>0</td>\n",
              "      <td>0</td>\n",
              "      <td>0</td>\n",
              "      <td>0</td>\n",
              "      <td>0</td>\n",
              "      <td>0</td>\n",
              "      <td>0</td>\n",
              "      <td>0</td>\n",
              "      <td>0</td>\n",
              "      <td>1</td>\n",
              "      <td>0</td>\n",
              "      <td>0</td>\n",
              "      <td>0</td>\n",
              "      <td>0</td>\n",
              "      <td>0</td>\n",
              "    </tr>\n",
              "    <tr>\n",
              "      <th>4</th>\n",
              "      <td>40</td>\n",
              "      <td>1</td>\n",
              "      <td>4</td>\n",
              "      <td>2</td>\n",
              "      <td>10</td>\n",
              "      <td>1</td>\n",
              "      <td>4</td>\n",
              "      <td>1</td>\n",
              "      <td>4</td>\n",
              "      <td>7</td>\n",
              "      <td>1</td>\n",
              "      <td>2</td>\n",
              "      <td>2</td>\n",
              "      <td>4</td>\n",
              "      <td>4</td>\n",
              "      <td>5</td>\n",
              "      <td>4</td>\n",
              "      <td>0</td>\n",
              "      <td>0</td>\n",
              "      <td>5</td>\n",
              "      <td>4</td>\n",
              "      <td>0</td>\n",
              "      <td>0</td>\n",
              "      <td>0</td>\n",
              "      <td>9</td>\n",
              "      <td>0</td>\n",
              "      <td>0</td>\n",
              "      <td>0</td>\n",
              "      <td>0</td>\n",
              "      <td>4</td>\n",
              "      <td>5</td>\n",
              "      <td>6</td>\n",
              "      <td>2</td>\n",
              "      <td>1</td>\n",
              "      <td>5</td>\n",
              "      <td>4</td>\n",
              "      <td>0</td>\n",
              "      <td>0</td>\n",
              "      <td>9</td>\n",
              "      <td>0</td>\n",
              "      <td>...</td>\n",
              "      <td>0</td>\n",
              "      <td>0</td>\n",
              "      <td>0</td>\n",
              "      <td>0</td>\n",
              "      <td>0</td>\n",
              "      <td>0</td>\n",
              "      <td>0</td>\n",
              "      <td>0</td>\n",
              "      <td>0</td>\n",
              "      <td>0</td>\n",
              "      <td>0</td>\n",
              "      <td>0</td>\n",
              "      <td>0</td>\n",
              "      <td>6</td>\n",
              "      <td>0</td>\n",
              "      <td>0</td>\n",
              "      <td>0</td>\n",
              "      <td>0</td>\n",
              "      <td>0</td>\n",
              "      <td>0</td>\n",
              "      <td>0</td>\n",
              "      <td>0</td>\n",
              "      <td>0</td>\n",
              "      <td>0</td>\n",
              "      <td>0</td>\n",
              "      <td>0</td>\n",
              "      <td>0</td>\n",
              "      <td>0</td>\n",
              "      <td>0</td>\n",
              "      <td>0</td>\n",
              "      <td>0</td>\n",
              "      <td>0</td>\n",
              "      <td>0</td>\n",
              "      <td>0</td>\n",
              "      <td>1</td>\n",
              "      <td>0</td>\n",
              "      <td>0</td>\n",
              "      <td>0</td>\n",
              "      <td>0</td>\n",
              "      <td>0</td>\n",
              "    </tr>\n",
              "  </tbody>\n",
              "</table>\n",
              "<p>5 rows × 85 columns</p>\n",
              "</div>"
            ],
            "text/plain": [
              "   MOSTYPE  MAANTHUI  MGEMOMV  MGEMLEEF  ...  APLEZIER  AFIETS  AINBOED  ABYSTAND\n",
              "0       33         1        3         2  ...         0       0        0         0\n",
              "1       37         1        2         2  ...         0       0        0         0\n",
              "2       37         1        2         2  ...         0       0        0         0\n",
              "3        9         1        3         3  ...         0       0        0         0\n",
              "4       40         1        4         2  ...         0       0        0         0\n",
              "\n",
              "[5 rows x 85 columns]"
            ]
          },
          "metadata": {
            "tags": []
          },
          "execution_count": 6
        }
      ]
    },
    {
      "cell_type": "code",
      "metadata": {
        "id": "nNABexQRS825",
        "colab_type": "code",
        "colab": {
          "base_uri": "https://localhost:8080/",
          "height": 1000
        },
        "outputId": "1a8a88db-e7d4-4fe3-cebd-20c616438bcb"
      },
      "source": [
        "features.info()"
      ],
      "execution_count": 7,
      "outputs": [
        {
          "output_type": "stream",
          "text": [
            "<class 'pandas.core.frame.DataFrame'>\n",
            "RangeIndex: 9822 entries, 0 to 9821\n",
            "Data columns (total 85 columns):\n",
            " #   Column    Non-Null Count  Dtype\n",
            "---  ------    --------------  -----\n",
            " 0   MOSTYPE   9822 non-null   int64\n",
            " 1   MAANTHUI  9822 non-null   int64\n",
            " 2   MGEMOMV   9822 non-null   int64\n",
            " 3   MGEMLEEF  9822 non-null   int64\n",
            " 4   MOSHOOFD  9822 non-null   int64\n",
            " 5   MGODRK    9822 non-null   int64\n",
            " 6   MGODPR    9822 non-null   int64\n",
            " 7   MGODOV    9822 non-null   int64\n",
            " 8   MGODGE    9822 non-null   int64\n",
            " 9   MRELGE    9822 non-null   int64\n",
            " 10  MRELSA    9822 non-null   int64\n",
            " 11  MRELOV    9822 non-null   int64\n",
            " 12  MFALLEEN  9822 non-null   int64\n",
            " 13  MFGEKIND  9822 non-null   int64\n",
            " 14  MFWEKIND  9822 non-null   int64\n",
            " 15  MOPLHOOG  9822 non-null   int64\n",
            " 16  MOPLMIDD  9822 non-null   int64\n",
            " 17  MOPLLAAG  9822 non-null   int64\n",
            " 18  MBERHOOG  9822 non-null   int64\n",
            " 19  MBERZELF  9822 non-null   int64\n",
            " 20  MBERBOER  9822 non-null   int64\n",
            " 21  MBERMIDD  9822 non-null   int64\n",
            " 22  MBERARBG  9822 non-null   int64\n",
            " 23  MBERARBO  9822 non-null   int64\n",
            " 24  MSKA      9822 non-null   int64\n",
            " 25  MSKB1     9822 non-null   int64\n",
            " 26  MSKB2     9822 non-null   int64\n",
            " 27  MSKC      9822 non-null   int64\n",
            " 28  MSKD      9822 non-null   int64\n",
            " 29  MHHUUR    9822 non-null   int64\n",
            " 30  MHKOOP    9822 non-null   int64\n",
            " 31  MAUT1     9822 non-null   int64\n",
            " 32  MAUT2     9822 non-null   int64\n",
            " 33  MAUT0     9822 non-null   int64\n",
            " 34  MZFONDS   9822 non-null   int64\n",
            " 35  MZPART    9822 non-null   int64\n",
            " 36  MINKM30   9822 non-null   int64\n",
            " 37  MINK3045  9822 non-null   int64\n",
            " 38  MINK4575  9822 non-null   int64\n",
            " 39  MINK7512  9822 non-null   int64\n",
            " 40  MINK123M  9822 non-null   int64\n",
            " 41  MINKGEM   9822 non-null   int64\n",
            " 42  MKOOPKLA  9822 non-null   int64\n",
            " 43  PWAPART   9822 non-null   int64\n",
            " 44  PWABEDR   9822 non-null   int64\n",
            " 45  PWALAND   9822 non-null   int64\n",
            " 46  PPERSAUT  9822 non-null   int64\n",
            " 47  PBESAUT   9822 non-null   int64\n",
            " 48  PMOTSCO   9822 non-null   int64\n",
            " 49  PVRAAUT   9822 non-null   int64\n",
            " 50  PAANHANG  9822 non-null   int64\n",
            " 51  PTRACTOR  9822 non-null   int64\n",
            " 52  PWERKT    9822 non-null   int64\n",
            " 53  PBROM     9822 non-null   int64\n",
            " 54  PLEVEN    9822 non-null   int64\n",
            " 55  PPERSONG  9822 non-null   int64\n",
            " 56  PGEZONG   9822 non-null   int64\n",
            " 57  PWAOREG   9822 non-null   int64\n",
            " 58  PBRAND    9822 non-null   int64\n",
            " 59  PZEILPL   9822 non-null   int64\n",
            " 60  PPLEZIER  9822 non-null   int64\n",
            " 61  PFIETS    9822 non-null   int64\n",
            " 62  PINBOED   9822 non-null   int64\n",
            " 63  PBYSTAND  9822 non-null   int64\n",
            " 64  AWAPART   9822 non-null   int64\n",
            " 65  AWABEDR   9822 non-null   int64\n",
            " 66  AWALAND   9822 non-null   int64\n",
            " 67  APERSAUT  9822 non-null   int64\n",
            " 68  ABESAUT   9822 non-null   int64\n",
            " 69  AMOTSCO   9822 non-null   int64\n",
            " 70  AVRAAUT   9822 non-null   int64\n",
            " 71  AAANHANG  9822 non-null   int64\n",
            " 72  ATRACTOR  9822 non-null   int64\n",
            " 73  AWERKT    9822 non-null   int64\n",
            " 74  ABROM     9822 non-null   int64\n",
            " 75  ALEVEN    9822 non-null   int64\n",
            " 76  APERSONG  9822 non-null   int64\n",
            " 77  AGEZONG   9822 non-null   int64\n",
            " 78  AWAOREG   9822 non-null   int64\n",
            " 79  ABRAND    9822 non-null   int64\n",
            " 80  AZEILPL   9822 non-null   int64\n",
            " 81  APLEZIER  9822 non-null   int64\n",
            " 82  AFIETS    9822 non-null   int64\n",
            " 83  AINBOED   9822 non-null   int64\n",
            " 84  ABYSTAND  9822 non-null   int64\n",
            "dtypes: int64(85)\n",
            "memory usage: 6.4 MB\n"
          ],
          "name": "stdout"
        }
      ]
    },
    {
      "cell_type": "code",
      "metadata": {
        "id": "9qp4lbXwJRgN",
        "colab_type": "code",
        "colab": {
          "base_uri": "https://localhost:8080/",
          "height": 346
        },
        "outputId": "53d4b9d1-ef40-4279-d2bc-70f1569a3c89"
      },
      "source": [
        "features.describe()"
      ],
      "execution_count": 8,
      "outputs": [
        {
          "output_type": "execute_result",
          "data": {
            "text/html": [
              "<div>\n",
              "<style scoped>\n",
              "    .dataframe tbody tr th:only-of-type {\n",
              "        vertical-align: middle;\n",
              "    }\n",
              "\n",
              "    .dataframe tbody tr th {\n",
              "        vertical-align: top;\n",
              "    }\n",
              "\n",
              "    .dataframe thead th {\n",
              "        text-align: right;\n",
              "    }\n",
              "</style>\n",
              "<table border=\"1\" class=\"dataframe\">\n",
              "  <thead>\n",
              "    <tr style=\"text-align: right;\">\n",
              "      <th></th>\n",
              "      <th>MOSTYPE</th>\n",
              "      <th>MAANTHUI</th>\n",
              "      <th>MGEMOMV</th>\n",
              "      <th>MGEMLEEF</th>\n",
              "      <th>MOSHOOFD</th>\n",
              "      <th>MGODRK</th>\n",
              "      <th>MGODPR</th>\n",
              "      <th>MGODOV</th>\n",
              "      <th>MGODGE</th>\n",
              "      <th>MRELGE</th>\n",
              "      <th>MRELSA</th>\n",
              "      <th>MRELOV</th>\n",
              "      <th>MFALLEEN</th>\n",
              "      <th>MFGEKIND</th>\n",
              "      <th>MFWEKIND</th>\n",
              "      <th>MOPLHOOG</th>\n",
              "      <th>MOPLMIDD</th>\n",
              "      <th>MOPLLAAG</th>\n",
              "      <th>MBERHOOG</th>\n",
              "      <th>MBERZELF</th>\n",
              "      <th>MBERBOER</th>\n",
              "      <th>MBERMIDD</th>\n",
              "      <th>MBERARBG</th>\n",
              "      <th>MBERARBO</th>\n",
              "      <th>MSKA</th>\n",
              "      <th>MSKB1</th>\n",
              "      <th>MSKB2</th>\n",
              "      <th>MSKC</th>\n",
              "      <th>MSKD</th>\n",
              "      <th>MHHUUR</th>\n",
              "      <th>MHKOOP</th>\n",
              "      <th>MAUT1</th>\n",
              "      <th>MAUT2</th>\n",
              "      <th>MAUT0</th>\n",
              "      <th>MZFONDS</th>\n",
              "      <th>MZPART</th>\n",
              "      <th>MINKM30</th>\n",
              "      <th>MINK3045</th>\n",
              "      <th>MINK4575</th>\n",
              "      <th>MINK7512</th>\n",
              "      <th>...</th>\n",
              "      <th>PWALAND</th>\n",
              "      <th>PPERSAUT</th>\n",
              "      <th>PBESAUT</th>\n",
              "      <th>PMOTSCO</th>\n",
              "      <th>PVRAAUT</th>\n",
              "      <th>PAANHANG</th>\n",
              "      <th>PTRACTOR</th>\n",
              "      <th>PWERKT</th>\n",
              "      <th>PBROM</th>\n",
              "      <th>PLEVEN</th>\n",
              "      <th>PPERSONG</th>\n",
              "      <th>PGEZONG</th>\n",
              "      <th>PWAOREG</th>\n",
              "      <th>PBRAND</th>\n",
              "      <th>PZEILPL</th>\n",
              "      <th>PPLEZIER</th>\n",
              "      <th>PFIETS</th>\n",
              "      <th>PINBOED</th>\n",
              "      <th>PBYSTAND</th>\n",
              "      <th>AWAPART</th>\n",
              "      <th>AWABEDR</th>\n",
              "      <th>AWALAND</th>\n",
              "      <th>APERSAUT</th>\n",
              "      <th>ABESAUT</th>\n",
              "      <th>AMOTSCO</th>\n",
              "      <th>AVRAAUT</th>\n",
              "      <th>AAANHANG</th>\n",
              "      <th>ATRACTOR</th>\n",
              "      <th>AWERKT</th>\n",
              "      <th>ABROM</th>\n",
              "      <th>ALEVEN</th>\n",
              "      <th>APERSONG</th>\n",
              "      <th>AGEZONG</th>\n",
              "      <th>AWAOREG</th>\n",
              "      <th>ABRAND</th>\n",
              "      <th>AZEILPL</th>\n",
              "      <th>APLEZIER</th>\n",
              "      <th>AFIETS</th>\n",
              "      <th>AINBOED</th>\n",
              "      <th>ABYSTAND</th>\n",
              "    </tr>\n",
              "  </thead>\n",
              "  <tbody>\n",
              "    <tr>\n",
              "      <th>count</th>\n",
              "      <td>9822.000000</td>\n",
              "      <td>9822.000000</td>\n",
              "      <td>9822.000000</td>\n",
              "      <td>9822.000000</td>\n",
              "      <td>9822.000000</td>\n",
              "      <td>9822.000000</td>\n",
              "      <td>9822.000000</td>\n",
              "      <td>9822.000000</td>\n",
              "      <td>9822.000000</td>\n",
              "      <td>9822.000000</td>\n",
              "      <td>9822.000000</td>\n",
              "      <td>9822.000000</td>\n",
              "      <td>9822.000000</td>\n",
              "      <td>9822.000000</td>\n",
              "      <td>9822.000000</td>\n",
              "      <td>9822.000000</td>\n",
              "      <td>9822.000000</td>\n",
              "      <td>9822.000000</td>\n",
              "      <td>9822.000000</td>\n",
              "      <td>9822.000000</td>\n",
              "      <td>9822.000000</td>\n",
              "      <td>9822.000000</td>\n",
              "      <td>9822.000000</td>\n",
              "      <td>9822.000000</td>\n",
              "      <td>9822.000000</td>\n",
              "      <td>9822.000000</td>\n",
              "      <td>9822.000000</td>\n",
              "      <td>9822.000000</td>\n",
              "      <td>9822.000000</td>\n",
              "      <td>9822.000000</td>\n",
              "      <td>9822.000000</td>\n",
              "      <td>9822.000000</td>\n",
              "      <td>9822.000000</td>\n",
              "      <td>9822.000000</td>\n",
              "      <td>9822.000000</td>\n",
              "      <td>9822.000000</td>\n",
              "      <td>9822.000000</td>\n",
              "      <td>9822.000000</td>\n",
              "      <td>9822.000000</td>\n",
              "      <td>9822.000000</td>\n",
              "      <td>...</td>\n",
              "      <td>9822.000000</td>\n",
              "      <td>9822.000000</td>\n",
              "      <td>9822.000000</td>\n",
              "      <td>9822.000000</td>\n",
              "      <td>9822.000000</td>\n",
              "      <td>9822.000000</td>\n",
              "      <td>9822.000000</td>\n",
              "      <td>9822.000000</td>\n",
              "      <td>9822.000000</td>\n",
              "      <td>9822.000000</td>\n",
              "      <td>9822.000000</td>\n",
              "      <td>9822.000000</td>\n",
              "      <td>9822.000000</td>\n",
              "      <td>9822.000000</td>\n",
              "      <td>9822.000000</td>\n",
              "      <td>9822.000000</td>\n",
              "      <td>9822.000000</td>\n",
              "      <td>9822.000000</td>\n",
              "      <td>9822.000000</td>\n",
              "      <td>9822.000000</td>\n",
              "      <td>9822.000000</td>\n",
              "      <td>9822.000000</td>\n",
              "      <td>9822.000000</td>\n",
              "      <td>9822.000000</td>\n",
              "      <td>9822.000000</td>\n",
              "      <td>9822.000000</td>\n",
              "      <td>9822.000000</td>\n",
              "      <td>9822.000000</td>\n",
              "      <td>9822.000000</td>\n",
              "      <td>9822.000000</td>\n",
              "      <td>9822.000000</td>\n",
              "      <td>9822.000000</td>\n",
              "      <td>9822.000000</td>\n",
              "      <td>9822.000000</td>\n",
              "      <td>9822.000000</td>\n",
              "      <td>9822.000000</td>\n",
              "      <td>9822.000000</td>\n",
              "      <td>9822.00000</td>\n",
              "      <td>9822.000000</td>\n",
              "      <td>9822.000000</td>\n",
              "    </tr>\n",
              "    <tr>\n",
              "      <th>mean</th>\n",
              "      <td>24.253207</td>\n",
              "      <td>1.108735</td>\n",
              "      <td>2.677561</td>\n",
              "      <td>2.996437</td>\n",
              "      <td>5.779067</td>\n",
              "      <td>0.700672</td>\n",
              "      <td>4.637650</td>\n",
              "      <td>1.050092</td>\n",
              "      <td>3.262981</td>\n",
              "      <td>6.188964</td>\n",
              "      <td>0.873142</td>\n",
              "      <td>2.286602</td>\n",
              "      <td>1.887294</td>\n",
              "      <td>3.237324</td>\n",
              "      <td>4.302891</td>\n",
              "      <td>1.484525</td>\n",
              "      <td>3.307269</td>\n",
              "      <td>4.592038</td>\n",
              "      <td>1.898799</td>\n",
              "      <td>0.403278</td>\n",
              "      <td>0.545714</td>\n",
              "      <td>2.877113</td>\n",
              "      <td>2.226532</td>\n",
              "      <td>2.291183</td>\n",
              "      <td>1.650682</td>\n",
              "      <td>1.595093</td>\n",
              "      <td>2.204744</td>\n",
              "      <td>3.742211</td>\n",
              "      <td>1.068214</td>\n",
              "      <td>4.187742</td>\n",
              "      <td>4.819487</td>\n",
              "      <td>6.022501</td>\n",
              "      <td>1.335980</td>\n",
              "      <td>1.956730</td>\n",
              "      <td>6.254327</td>\n",
              "      <td>2.750662</td>\n",
              "      <td>2.577072</td>\n",
              "      <td>3.505498</td>\n",
              "      <td>2.739462</td>\n",
              "      <td>0.808491</td>\n",
              "      <td>...</td>\n",
              "      <td>0.073712</td>\n",
              "      <td>2.956424</td>\n",
              "      <td>0.054877</td>\n",
              "      <td>0.170841</td>\n",
              "      <td>0.008858</td>\n",
              "      <td>0.019344</td>\n",
              "      <td>0.093565</td>\n",
              "      <td>0.011505</td>\n",
              "      <td>0.215027</td>\n",
              "      <td>0.202301</td>\n",
              "      <td>0.011505</td>\n",
              "      <td>0.018733</td>\n",
              "      <td>0.023315</td>\n",
              "      <td>1.849420</td>\n",
              "      <td>0.001629</td>\n",
              "      <td>0.015272</td>\n",
              "      <td>0.025351</td>\n",
              "      <td>0.016697</td>\n",
              "      <td>0.045408</td>\n",
              "      <td>0.400020</td>\n",
              "      <td>0.014050</td>\n",
              "      <td>0.021279</td>\n",
              "      <td>0.557218</td>\n",
              "      <td>0.011098</td>\n",
              "      <td>0.040216</td>\n",
              "      <td>0.002240</td>\n",
              "      <td>0.011403</td>\n",
              "      <td>0.034413</td>\n",
              "      <td>0.005192</td>\n",
              "      <td>0.071065</td>\n",
              "      <td>0.079821</td>\n",
              "      <td>0.004582</td>\n",
              "      <td>0.007941</td>\n",
              "      <td>0.004276</td>\n",
              "      <td>0.574018</td>\n",
              "      <td>0.000916</td>\n",
              "      <td>0.005091</td>\n",
              "      <td>0.03146</td>\n",
              "      <td>0.008450</td>\n",
              "      <td>0.013846</td>\n",
              "    </tr>\n",
              "    <tr>\n",
              "      <th>std</th>\n",
              "      <td>12.918058</td>\n",
              "      <td>0.412101</td>\n",
              "      <td>0.780701</td>\n",
              "      <td>0.804660</td>\n",
              "      <td>2.874148</td>\n",
              "      <td>1.015107</td>\n",
              "      <td>1.721212</td>\n",
              "      <td>1.011156</td>\n",
              "      <td>1.606287</td>\n",
              "      <td>1.896070</td>\n",
              "      <td>0.961955</td>\n",
              "      <td>1.710674</td>\n",
              "      <td>1.779238</td>\n",
              "      <td>1.609139</td>\n",
              "      <td>1.984152</td>\n",
              "      <td>1.645968</td>\n",
              "      <td>1.723377</td>\n",
              "      <td>2.279839</td>\n",
              "      <td>1.814406</td>\n",
              "      <td>0.786792</td>\n",
              "      <td>1.106349</td>\n",
              "      <td>1.846703</td>\n",
              "      <td>1.748025</td>\n",
              "      <td>1.684008</td>\n",
              "      <td>1.742410</td>\n",
              "      <td>1.321487</td>\n",
              "      <td>1.534163</td>\n",
              "      <td>1.944900</td>\n",
              "      <td>1.298229</td>\n",
              "      <td>3.093127</td>\n",
              "      <td>3.093541</td>\n",
              "      <td>1.543980</td>\n",
              "      <td>1.213627</td>\n",
              "      <td>1.596842</td>\n",
              "      <td>2.000374</td>\n",
              "      <td>2.002960</td>\n",
              "      <td>2.073125</td>\n",
              "      <td>1.871365</td>\n",
              "      <td>1.950625</td>\n",
              "      <td>1.173771</td>\n",
              "      <td>...</td>\n",
              "      <td>0.507818</td>\n",
              "      <td>2.921736</td>\n",
              "      <td>0.566108</td>\n",
              "      <td>0.888518</td>\n",
              "      <td>0.237556</td>\n",
              "      <td>0.200885</td>\n",
              "      <td>0.604350</td>\n",
              "      <td>0.215408</td>\n",
              "      <td>0.810899</td>\n",
              "      <td>0.910574</td>\n",
              "      <td>0.188699</td>\n",
              "      <td>0.213712</td>\n",
              "      <td>0.375350</td>\n",
              "      <td>1.881271</td>\n",
              "      <td>0.057058</td>\n",
              "      <td>0.244210</td>\n",
              "      <td>0.157198</td>\n",
              "      <td>0.211487</td>\n",
              "      <td>0.396983</td>\n",
              "      <td>0.492001</td>\n",
              "      <td>0.126058</td>\n",
              "      <td>0.144319</td>\n",
              "      <td>0.608575</td>\n",
              "      <td>0.129928</td>\n",
              "      <td>0.223622</td>\n",
              "      <td>0.068402</td>\n",
              "      <td>0.116251</td>\n",
              "      <td>0.249706</td>\n",
              "      <td>0.109954</td>\n",
              "      <td>0.267432</td>\n",
              "      <td>0.384431</td>\n",
              "      <td>0.067535</td>\n",
              "      <td>0.088764</td>\n",
              "      <td>0.071224</td>\n",
              "      <td>0.561255</td>\n",
              "      <td>0.030258</td>\n",
              "      <td>0.077996</td>\n",
              "      <td>0.20907</td>\n",
              "      <td>0.092647</td>\n",
              "      <td>0.117728</td>\n",
              "    </tr>\n",
              "    <tr>\n",
              "      <th>min</th>\n",
              "      <td>1.000000</td>\n",
              "      <td>1.000000</td>\n",
              "      <td>1.000000</td>\n",
              "      <td>1.000000</td>\n",
              "      <td>1.000000</td>\n",
              "      <td>0.000000</td>\n",
              "      <td>0.000000</td>\n",
              "      <td>0.000000</td>\n",
              "      <td>0.000000</td>\n",
              "      <td>0.000000</td>\n",
              "      <td>0.000000</td>\n",
              "      <td>0.000000</td>\n",
              "      <td>0.000000</td>\n",
              "      <td>0.000000</td>\n",
              "      <td>0.000000</td>\n",
              "      <td>0.000000</td>\n",
              "      <td>0.000000</td>\n",
              "      <td>0.000000</td>\n",
              "      <td>0.000000</td>\n",
              "      <td>0.000000</td>\n",
              "      <td>0.000000</td>\n",
              "      <td>0.000000</td>\n",
              "      <td>0.000000</td>\n",
              "      <td>0.000000</td>\n",
              "      <td>0.000000</td>\n",
              "      <td>0.000000</td>\n",
              "      <td>0.000000</td>\n",
              "      <td>0.000000</td>\n",
              "      <td>0.000000</td>\n",
              "      <td>0.000000</td>\n",
              "      <td>0.000000</td>\n",
              "      <td>0.000000</td>\n",
              "      <td>0.000000</td>\n",
              "      <td>0.000000</td>\n",
              "      <td>0.000000</td>\n",
              "      <td>0.000000</td>\n",
              "      <td>0.000000</td>\n",
              "      <td>0.000000</td>\n",
              "      <td>0.000000</td>\n",
              "      <td>0.000000</td>\n",
              "      <td>...</td>\n",
              "      <td>0.000000</td>\n",
              "      <td>0.000000</td>\n",
              "      <td>0.000000</td>\n",
              "      <td>0.000000</td>\n",
              "      <td>0.000000</td>\n",
              "      <td>0.000000</td>\n",
              "      <td>0.000000</td>\n",
              "      <td>0.000000</td>\n",
              "      <td>0.000000</td>\n",
              "      <td>0.000000</td>\n",
              "      <td>0.000000</td>\n",
              "      <td>0.000000</td>\n",
              "      <td>0.000000</td>\n",
              "      <td>0.000000</td>\n",
              "      <td>0.000000</td>\n",
              "      <td>0.000000</td>\n",
              "      <td>0.000000</td>\n",
              "      <td>0.000000</td>\n",
              "      <td>0.000000</td>\n",
              "      <td>0.000000</td>\n",
              "      <td>0.000000</td>\n",
              "      <td>0.000000</td>\n",
              "      <td>0.000000</td>\n",
              "      <td>0.000000</td>\n",
              "      <td>0.000000</td>\n",
              "      <td>0.000000</td>\n",
              "      <td>0.000000</td>\n",
              "      <td>0.000000</td>\n",
              "      <td>0.000000</td>\n",
              "      <td>0.000000</td>\n",
              "      <td>0.000000</td>\n",
              "      <td>0.000000</td>\n",
              "      <td>0.000000</td>\n",
              "      <td>0.000000</td>\n",
              "      <td>0.000000</td>\n",
              "      <td>0.000000</td>\n",
              "      <td>0.000000</td>\n",
              "      <td>0.00000</td>\n",
              "      <td>0.000000</td>\n",
              "      <td>0.000000</td>\n",
              "    </tr>\n",
              "    <tr>\n",
              "      <th>25%</th>\n",
              "      <td>10.000000</td>\n",
              "      <td>1.000000</td>\n",
              "      <td>2.000000</td>\n",
              "      <td>2.000000</td>\n",
              "      <td>3.000000</td>\n",
              "      <td>0.000000</td>\n",
              "      <td>4.000000</td>\n",
              "      <td>0.000000</td>\n",
              "      <td>2.000000</td>\n",
              "      <td>5.000000</td>\n",
              "      <td>0.000000</td>\n",
              "      <td>1.000000</td>\n",
              "      <td>0.000000</td>\n",
              "      <td>2.000000</td>\n",
              "      <td>3.000000</td>\n",
              "      <td>0.000000</td>\n",
              "      <td>2.000000</td>\n",
              "      <td>3.000000</td>\n",
              "      <td>0.000000</td>\n",
              "      <td>0.000000</td>\n",
              "      <td>0.000000</td>\n",
              "      <td>2.000000</td>\n",
              "      <td>1.000000</td>\n",
              "      <td>1.000000</td>\n",
              "      <td>0.000000</td>\n",
              "      <td>1.000000</td>\n",
              "      <td>1.000000</td>\n",
              "      <td>2.000000</td>\n",
              "      <td>0.000000</td>\n",
              "      <td>2.000000</td>\n",
              "      <td>2.000000</td>\n",
              "      <td>5.000000</td>\n",
              "      <td>0.000000</td>\n",
              "      <td>0.000000</td>\n",
              "      <td>5.000000</td>\n",
              "      <td>1.000000</td>\n",
              "      <td>1.000000</td>\n",
              "      <td>2.000000</td>\n",
              "      <td>1.000000</td>\n",
              "      <td>0.000000</td>\n",
              "      <td>...</td>\n",
              "      <td>0.000000</td>\n",
              "      <td>0.000000</td>\n",
              "      <td>0.000000</td>\n",
              "      <td>0.000000</td>\n",
              "      <td>0.000000</td>\n",
              "      <td>0.000000</td>\n",
              "      <td>0.000000</td>\n",
              "      <td>0.000000</td>\n",
              "      <td>0.000000</td>\n",
              "      <td>0.000000</td>\n",
              "      <td>0.000000</td>\n",
              "      <td>0.000000</td>\n",
              "      <td>0.000000</td>\n",
              "      <td>0.000000</td>\n",
              "      <td>0.000000</td>\n",
              "      <td>0.000000</td>\n",
              "      <td>0.000000</td>\n",
              "      <td>0.000000</td>\n",
              "      <td>0.000000</td>\n",
              "      <td>0.000000</td>\n",
              "      <td>0.000000</td>\n",
              "      <td>0.000000</td>\n",
              "      <td>0.000000</td>\n",
              "      <td>0.000000</td>\n",
              "      <td>0.000000</td>\n",
              "      <td>0.000000</td>\n",
              "      <td>0.000000</td>\n",
              "      <td>0.000000</td>\n",
              "      <td>0.000000</td>\n",
              "      <td>0.000000</td>\n",
              "      <td>0.000000</td>\n",
              "      <td>0.000000</td>\n",
              "      <td>0.000000</td>\n",
              "      <td>0.000000</td>\n",
              "      <td>0.000000</td>\n",
              "      <td>0.000000</td>\n",
              "      <td>0.000000</td>\n",
              "      <td>0.00000</td>\n",
              "      <td>0.000000</td>\n",
              "      <td>0.000000</td>\n",
              "    </tr>\n",
              "    <tr>\n",
              "      <th>50%</th>\n",
              "      <td>30.000000</td>\n",
              "      <td>1.000000</td>\n",
              "      <td>3.000000</td>\n",
              "      <td>3.000000</td>\n",
              "      <td>7.000000</td>\n",
              "      <td>0.000000</td>\n",
              "      <td>5.000000</td>\n",
              "      <td>1.000000</td>\n",
              "      <td>3.000000</td>\n",
              "      <td>6.000000</td>\n",
              "      <td>1.000000</td>\n",
              "      <td>2.000000</td>\n",
              "      <td>2.000000</td>\n",
              "      <td>3.000000</td>\n",
              "      <td>4.000000</td>\n",
              "      <td>1.000000</td>\n",
              "      <td>3.000000</td>\n",
              "      <td>5.000000</td>\n",
              "      <td>2.000000</td>\n",
              "      <td>0.000000</td>\n",
              "      <td>0.000000</td>\n",
              "      <td>3.000000</td>\n",
              "      <td>2.000000</td>\n",
              "      <td>2.000000</td>\n",
              "      <td>1.000000</td>\n",
              "      <td>2.000000</td>\n",
              "      <td>2.000000</td>\n",
              "      <td>4.000000</td>\n",
              "      <td>1.000000</td>\n",
              "      <td>4.000000</td>\n",
              "      <td>5.000000</td>\n",
              "      <td>6.000000</td>\n",
              "      <td>1.000000</td>\n",
              "      <td>2.000000</td>\n",
              "      <td>7.000000</td>\n",
              "      <td>2.000000</td>\n",
              "      <td>2.000000</td>\n",
              "      <td>4.000000</td>\n",
              "      <td>3.000000</td>\n",
              "      <td>0.000000</td>\n",
              "      <td>...</td>\n",
              "      <td>0.000000</td>\n",
              "      <td>5.000000</td>\n",
              "      <td>0.000000</td>\n",
              "      <td>0.000000</td>\n",
              "      <td>0.000000</td>\n",
              "      <td>0.000000</td>\n",
              "      <td>0.000000</td>\n",
              "      <td>0.000000</td>\n",
              "      <td>0.000000</td>\n",
              "      <td>0.000000</td>\n",
              "      <td>0.000000</td>\n",
              "      <td>0.000000</td>\n",
              "      <td>0.000000</td>\n",
              "      <td>2.000000</td>\n",
              "      <td>0.000000</td>\n",
              "      <td>0.000000</td>\n",
              "      <td>0.000000</td>\n",
              "      <td>0.000000</td>\n",
              "      <td>0.000000</td>\n",
              "      <td>0.000000</td>\n",
              "      <td>0.000000</td>\n",
              "      <td>0.000000</td>\n",
              "      <td>1.000000</td>\n",
              "      <td>0.000000</td>\n",
              "      <td>0.000000</td>\n",
              "      <td>0.000000</td>\n",
              "      <td>0.000000</td>\n",
              "      <td>0.000000</td>\n",
              "      <td>0.000000</td>\n",
              "      <td>0.000000</td>\n",
              "      <td>0.000000</td>\n",
              "      <td>0.000000</td>\n",
              "      <td>0.000000</td>\n",
              "      <td>0.000000</td>\n",
              "      <td>1.000000</td>\n",
              "      <td>0.000000</td>\n",
              "      <td>0.000000</td>\n",
              "      <td>0.00000</td>\n",
              "      <td>0.000000</td>\n",
              "      <td>0.000000</td>\n",
              "    </tr>\n",
              "    <tr>\n",
              "      <th>75%</th>\n",
              "      <td>35.000000</td>\n",
              "      <td>1.000000</td>\n",
              "      <td>3.000000</td>\n",
              "      <td>3.000000</td>\n",
              "      <td>8.000000</td>\n",
              "      <td>1.000000</td>\n",
              "      <td>6.000000</td>\n",
              "      <td>2.000000</td>\n",
              "      <td>4.000000</td>\n",
              "      <td>7.000000</td>\n",
              "      <td>1.000000</td>\n",
              "      <td>3.000000</td>\n",
              "      <td>3.000000</td>\n",
              "      <td>4.000000</td>\n",
              "      <td>6.000000</td>\n",
              "      <td>2.000000</td>\n",
              "      <td>4.000000</td>\n",
              "      <td>6.000000</td>\n",
              "      <td>3.000000</td>\n",
              "      <td>1.000000</td>\n",
              "      <td>1.000000</td>\n",
              "      <td>4.000000</td>\n",
              "      <td>3.000000</td>\n",
              "      <td>3.000000</td>\n",
              "      <td>2.000000</td>\n",
              "      <td>2.000000</td>\n",
              "      <td>3.000000</td>\n",
              "      <td>5.000000</td>\n",
              "      <td>2.000000</td>\n",
              "      <td>7.000000</td>\n",
              "      <td>7.000000</td>\n",
              "      <td>7.000000</td>\n",
              "      <td>2.000000</td>\n",
              "      <td>3.000000</td>\n",
              "      <td>8.000000</td>\n",
              "      <td>4.000000</td>\n",
              "      <td>4.000000</td>\n",
              "      <td>5.000000</td>\n",
              "      <td>4.000000</td>\n",
              "      <td>1.000000</td>\n",
              "      <td>...</td>\n",
              "      <td>0.000000</td>\n",
              "      <td>6.000000</td>\n",
              "      <td>0.000000</td>\n",
              "      <td>0.000000</td>\n",
              "      <td>0.000000</td>\n",
              "      <td>0.000000</td>\n",
              "      <td>0.000000</td>\n",
              "      <td>0.000000</td>\n",
              "      <td>0.000000</td>\n",
              "      <td>0.000000</td>\n",
              "      <td>0.000000</td>\n",
              "      <td>0.000000</td>\n",
              "      <td>0.000000</td>\n",
              "      <td>4.000000</td>\n",
              "      <td>0.000000</td>\n",
              "      <td>0.000000</td>\n",
              "      <td>0.000000</td>\n",
              "      <td>0.000000</td>\n",
              "      <td>0.000000</td>\n",
              "      <td>1.000000</td>\n",
              "      <td>0.000000</td>\n",
              "      <td>0.000000</td>\n",
              "      <td>1.000000</td>\n",
              "      <td>0.000000</td>\n",
              "      <td>0.000000</td>\n",
              "      <td>0.000000</td>\n",
              "      <td>0.000000</td>\n",
              "      <td>0.000000</td>\n",
              "      <td>0.000000</td>\n",
              "      <td>0.000000</td>\n",
              "      <td>0.000000</td>\n",
              "      <td>0.000000</td>\n",
              "      <td>0.000000</td>\n",
              "      <td>0.000000</td>\n",
              "      <td>1.000000</td>\n",
              "      <td>0.000000</td>\n",
              "      <td>0.000000</td>\n",
              "      <td>0.00000</td>\n",
              "      <td>0.000000</td>\n",
              "      <td>0.000000</td>\n",
              "    </tr>\n",
              "    <tr>\n",
              "      <th>max</th>\n",
              "      <td>41.000000</td>\n",
              "      <td>10.000000</td>\n",
              "      <td>6.000000</td>\n",
              "      <td>6.000000</td>\n",
              "      <td>10.000000</td>\n",
              "      <td>9.000000</td>\n",
              "      <td>9.000000</td>\n",
              "      <td>5.000000</td>\n",
              "      <td>9.000000</td>\n",
              "      <td>9.000000</td>\n",
              "      <td>7.000000</td>\n",
              "      <td>9.000000</td>\n",
              "      <td>9.000000</td>\n",
              "      <td>9.000000</td>\n",
              "      <td>9.000000</td>\n",
              "      <td>9.000000</td>\n",
              "      <td>9.000000</td>\n",
              "      <td>9.000000</td>\n",
              "      <td>9.000000</td>\n",
              "      <td>5.000000</td>\n",
              "      <td>9.000000</td>\n",
              "      <td>9.000000</td>\n",
              "      <td>9.000000</td>\n",
              "      <td>9.000000</td>\n",
              "      <td>9.000000</td>\n",
              "      <td>9.000000</td>\n",
              "      <td>9.000000</td>\n",
              "      <td>9.000000</td>\n",
              "      <td>9.000000</td>\n",
              "      <td>9.000000</td>\n",
              "      <td>9.000000</td>\n",
              "      <td>9.000000</td>\n",
              "      <td>9.000000</td>\n",
              "      <td>9.000000</td>\n",
              "      <td>9.000000</td>\n",
              "      <td>9.000000</td>\n",
              "      <td>9.000000</td>\n",
              "      <td>9.000000</td>\n",
              "      <td>9.000000</td>\n",
              "      <td>9.000000</td>\n",
              "      <td>...</td>\n",
              "      <td>4.000000</td>\n",
              "      <td>9.000000</td>\n",
              "      <td>7.000000</td>\n",
              "      <td>7.000000</td>\n",
              "      <td>9.000000</td>\n",
              "      <td>5.000000</td>\n",
              "      <td>7.000000</td>\n",
              "      <td>6.000000</td>\n",
              "      <td>6.000000</td>\n",
              "      <td>9.000000</td>\n",
              "      <td>6.000000</td>\n",
              "      <td>3.000000</td>\n",
              "      <td>7.000000</td>\n",
              "      <td>8.000000</td>\n",
              "      <td>3.000000</td>\n",
              "      <td>6.000000</td>\n",
              "      <td>1.000000</td>\n",
              "      <td>6.000000</td>\n",
              "      <td>5.000000</td>\n",
              "      <td>2.000000</td>\n",
              "      <td>5.000000</td>\n",
              "      <td>1.000000</td>\n",
              "      <td>12.000000</td>\n",
              "      <td>5.000000</td>\n",
              "      <td>8.000000</td>\n",
              "      <td>4.000000</td>\n",
              "      <td>3.000000</td>\n",
              "      <td>6.000000</td>\n",
              "      <td>6.000000</td>\n",
              "      <td>3.000000</td>\n",
              "      <td>8.000000</td>\n",
              "      <td>1.000000</td>\n",
              "      <td>1.000000</td>\n",
              "      <td>2.000000</td>\n",
              "      <td>7.000000</td>\n",
              "      <td>1.000000</td>\n",
              "      <td>2.000000</td>\n",
              "      <td>4.00000</td>\n",
              "      <td>2.000000</td>\n",
              "      <td>2.000000</td>\n",
              "    </tr>\n",
              "  </tbody>\n",
              "</table>\n",
              "<p>8 rows × 85 columns</p>\n",
              "</div>"
            ],
            "text/plain": [
              "           MOSTYPE     MAANTHUI  ...      AINBOED     ABYSTAND\n",
              "count  9822.000000  9822.000000  ...  9822.000000  9822.000000\n",
              "mean     24.253207     1.108735  ...     0.008450     0.013846\n",
              "std      12.918058     0.412101  ...     0.092647     0.117728\n",
              "min       1.000000     1.000000  ...     0.000000     0.000000\n",
              "25%      10.000000     1.000000  ...     0.000000     0.000000\n",
              "50%      30.000000     1.000000  ...     0.000000     0.000000\n",
              "75%      35.000000     1.000000  ...     0.000000     0.000000\n",
              "max      41.000000    10.000000  ...     2.000000     2.000000\n",
              "\n",
              "[8 rows x 85 columns]"
            ]
          },
          "metadata": {
            "tags": []
          },
          "execution_count": 8
        }
      ]
    },
    {
      "cell_type": "code",
      "metadata": {
        "id": "D0M6-6nupw7s",
        "colab_type": "code",
        "colab": {}
      },
      "source": [
        "binary_data = [col for col in features \n",
        "             if np.isin(features[col].dropna().unique(), [0, 1]).all()]            "
      ],
      "execution_count": 9,
      "outputs": []
    },
    {
      "cell_type": "code",
      "metadata": {
        "id": "AKDWF3rbp8ZY",
        "colab_type": "code",
        "colab": {
          "base_uri": "https://localhost:8080/",
          "height": 34
        },
        "outputId": "cae3821b-7d6a-4a00-8768-287aeb0a9cbc"
      },
      "source": [
        "binary_data"
      ],
      "execution_count": 10,
      "outputs": [
        {
          "output_type": "execute_result",
          "data": {
            "text/plain": [
              "['PFIETS', 'AWALAND', 'APERSONG', 'AGEZONG', 'AZEILPL']"
            ]
          },
          "metadata": {
            "tags": []
          },
          "execution_count": 10
        }
      ]
    },
    {
      "cell_type": "code",
      "metadata": {
        "id": "ZJ8tlPXqp_F2",
        "colab_type": "code",
        "colab": {
          "base_uri": "https://localhost:8080/",
          "height": 68
        },
        "outputId": "70630b37-a33c-4839-9ef0-fbe94fd93a08"
      },
      "source": [
        "features.PFIETS.value_counts()"
      ],
      "execution_count": 11,
      "outputs": [
        {
          "output_type": "execute_result",
          "data": {
            "text/plain": [
              "0    9573\n",
              "1     249\n",
              "Name: PFIETS, dtype: int64"
            ]
          },
          "metadata": {
            "tags": []
          },
          "execution_count": 11
        }
      ]
    },
    {
      "cell_type": "code",
      "metadata": {
        "id": "fwe2WcxHYAnp",
        "colab_type": "code",
        "colab": {
          "base_uri": "https://localhost:8080/",
          "height": 282
        },
        "outputId": "fe090e5f-bd8f-4892-848c-5943af82f303"
      },
      "source": [
        "features.MGEMLEEF.hist()"
      ],
      "execution_count": 12,
      "outputs": [
        {
          "output_type": "execute_result",
          "data": {
            "text/plain": [
              "<matplotlib.axes._subplots.AxesSubplot at 0x7f71489ef0f0>"
            ]
          },
          "metadata": {
            "tags": []
          },
          "execution_count": 12
        },
        {
          "output_type": "display_data",
          "data": {
            "image/png": "[encoded data removed]",
            "text/plain": [
              "<Figure size 432x288 with 1 Axes>"
            ]
          },
          "metadata": {
            "tags": [],
            "needs_background": "light"
          }
        }
      ]
    },
    {
      "cell_type": "code",
      "metadata": {
        "id": "IODGZwDeFTqX",
        "colab_type": "code",
        "colab": {
          "base_uri": "https://localhost:8080/",
          "height": 907
        },
        "outputId": "a842d83d-79ea-47a2-8719-f681be67a027"
      },
      "source": [
        "features.hist(figsize=(32,24));"
      ],
      "execution_count": 13,
      "outputs": [
        {
          "output_type": "display_data",
          "data": {
            "image/png": "[encoded data removed]",
            "text/plain": [
              "<Figure size 2304x1728 with 90 Axes>"
            ]
          },
          "metadata": {
            "tags": [],
            "needs_background": "light"
          }
        }
      ]
    },
    {
      "cell_type": "code",
      "metadata": {
        "id": "zuGvLYjhnRD4",
        "colab_type": "code",
        "colab": {
          "base_uri": "https://localhost:8080/",
          "height": 68
        },
        "outputId": "194ea8b6-bb5c-42fe-e777-a09b69f5d064"
      },
      "source": [
        "dataset.CARAVAN.value_counts()"
      ],
      "execution_count": 14,
      "outputs": [
        {
          "output_type": "execute_result",
          "data": {
            "text/plain": [
              "0    9236\n",
              "1     586\n",
              "Name: CARAVAN, dtype: int64"
            ]
          },
          "metadata": {
            "tags": []
          },
          "execution_count": 14
        }
      ]
    },
    {
      "cell_type": "code",
      "metadata": {
        "id": "FumSOb5AALUk",
        "colab_type": "code",
        "colab": {
          "base_uri": "https://localhost:8080/",
          "height": 221
        },
        "outputId": "50f6683b-b3e8-41a7-bb25-6b38411be028"
      },
      "source": [
        "#Validamos la cantidad de registros nulos\n",
        "train.isna().sum()"
      ],
      "execution_count": 15,
      "outputs": [
        {
          "output_type": "execute_result",
          "data": {
            "text/plain": [
              "ORIGIN      0\n",
              "MOSTYPE     0\n",
              "MAANTHUI    0\n",
              "MGEMOMV     0\n",
              "MGEMLEEF    0\n",
              "           ..\n",
              "APLEZIER    0\n",
              "AFIETS      0\n",
              "AINBOED     0\n",
              "ABYSTAND    0\n",
              "CARAVAN     0\n",
              "Length: 87, dtype: int64"
            ]
          },
          "metadata": {
            "tags": []
          },
          "execution_count": 15
        }
      ]
    },
    {
      "cell_type": "code",
      "metadata": {
        "id": "M32ic7KrAPsd",
        "colab_type": "code",
        "colab": {
          "base_uri": "https://localhost:8080/",
          "height": 221
        },
        "outputId": "6e15d781-02ba-4d72-a209-05d5da771cdd"
      },
      "source": [
        "#Validamos los valores únicos de las columnas\n",
        "train.nunique()"
      ],
      "execution_count": 16,
      "outputs": [
        {
          "output_type": "execute_result",
          "data": {
            "text/plain": [
              "ORIGIN       1\n",
              "MOSTYPE     40\n",
              "MAANTHUI     9\n",
              "MGEMOMV      5\n",
              "MGEMLEEF     6\n",
              "            ..\n",
              "APLEZIER     3\n",
              "AFIETS       4\n",
              "AINBOED      3\n",
              "ABYSTAND     3\n",
              "CARAVAN      2\n",
              "Length: 87, dtype: int64"
            ]
          },
          "metadata": {
            "tags": []
          },
          "execution_count": 16
        }
      ]
    },
    {
      "cell_type": "markdown",
      "metadata": {
        "id": "K93SdEHUpmhR",
        "colab_type": "text"
      },
      "source": [
        "#Pre procesamiento"
      ]
    },
    {
      "cell_type": "code",
      "metadata": {
        "id": "ISneG9dK9piP",
        "colab_type": "code",
        "colab": {}
      },
      "source": [
        "#Comentarios\n",
        "#No se encuentran registros con porcentajes altos de valores únicos para su eliminación.\n",
        "#Las variables correlacionadas no serán eliminadas.\n",
        "#Todas las variables son numéricas como hemos podido observar por lo que se dejarán tal cual.\n",
        "#No se encontraron registros nulos.\n",
        "#No será necesaria la creación de nuevas variables."
      ],
      "execution_count": 17,
      "outputs": []
    },
    {
      "cell_type": "code",
      "metadata": {
        "id": "kAD2SVWfp0DZ",
        "colab_type": "code",
        "colab": {}
      },
      "source": [
        "# Obtenemos nuestros datasets de entrenamiento y prueba\n",
        "X_train = train.drop(['ORIGIN','CARAVAN'], axis=1)\n",
        "y_train = train['CARAVAN']\n",
        "X_test = test.drop(['ORIGIN','CARAVAN'], axis=1)\n",
        "y_test = test['CARAVAN']\n",
        "\n",
        "# Dividimos el dataset de entrenamiento\n",
        "X_train_2, X_test_2, y_train_2, y_test_2 = train_test_split(X_train, y_train, stratify=y_train, test_size=0.2, random_state=0)"
      ],
      "execution_count": 21,
      "outputs": []
    },
    {
      "cell_type": "markdown",
      "metadata": {
        "id": "0zgvvFPpsEjx",
        "colab_type": "text"
      },
      "source": [
        "##Entrenamos un primer modelo"
      ]
    },
    {
      "cell_type": "code",
      "metadata": {
        "id": "bucgaIz5jhIS",
        "colab_type": "code",
        "colab": {
          "base_uri": "https://localhost:8080/",
          "height": 51
        },
        "outputId": "dcb8b77e-8d14-47ef-a825-e10c8d9a2e86"
      },
      "source": [
        "#Probamos con el modelo RandomForestClassifier con los hiperparámetros por defecto\n",
        "from sklearn.ensemble import RandomForestClassifier\n",
        "from sklearn.model_selection import train_test_split\n",
        "#clf = RandomForestClassifier(n_estimators = 100, n_jobs = -1, random_state = 42)\n",
        "clf = RandomForestClassifier(oob_score = True)\n",
        "clf.fit(X_train, y_train)\n",
        "print(\"Exactitud en el data de entrenamiento\",clf.score(X_train, y_train))\n",
        "print(\"Exactitud en el data de entrenamiento\",clf.score(X_test, y_test))"
      ],
      "execution_count": 20,
      "outputs": [
        {
          "output_type": "stream",
          "text": [
            "Exactitud en el data de entrenamiento 0.9912401236688423\n",
            "Exactitud en el data de entrenamiento 0.93225\n"
          ],
          "name": "stdout"
        }
      ]
    },
    {
      "cell_type": "code",
      "metadata": {
        "id": "ej7RVCdAkicV",
        "colab_type": "code",
        "colab": {
          "base_uri": "https://localhost:8080/",
          "height": 34
        },
        "outputId": "4ff9543e-8b08-4c7e-cb08-1c8dd2b4a867"
      },
      "source": [
        "#Obtenemos el AUC del primer modelo\n",
        "y_pred_test = clf.predict_proba(X_test)[:,1]\n",
        "auc_roc = metrics.roc_auc_score(y_test, y_pred_test)\n",
        "print('AUC =', auc_roc)\n",
        "\n",
        "#metrics.plot_roc_curve(clf, X_test, y_test)\n",
        "#plt.show()    "
      ],
      "execution_count": 22,
      "outputs": [
        {
          "output_type": "stream",
          "text": [
            "AUC = 0.6793096824056576\n"
          ],
          "name": "stdout"
        }
      ]
    },
    {
      "cell_type": "markdown",
      "metadata": {
        "id": "4Obm-NILmB56",
        "colab_type": "text"
      },
      "source": [
        "#Selección de características por filtrado"
      ]
    },
    {
      "cell_type": "code",
      "metadata": {
        "id": "jFG0hfy5mFrA",
        "colab_type": "code",
        "colab": {}
      },
      "source": [
        "from sklearn.model_selection import train_test_split\n",
        "from sklearn.feature_selection import SelectKBest\n",
        "from sklearn.feature_selection import f_classif, mutual_info_classif, chi2"
      ],
      "execution_count": 40,
      "outputs": []
    },
    {
      "cell_type": "code",
      "metadata": {
        "id": "stiDeDnNy0vK",
        "colab_type": "code",
        "colab": {
          "base_uri": "https://localhost:8080/",
          "height": 34
        },
        "outputId": "7845f138-9089-42e7-99bd-d36f48de4381"
      },
      "source": [
        "#Usamos SelectKBest con valore por defecto y K = 30\n",
        "selector = SelectKBest(k=30)\n",
        "selector = selector.fit(X_train_2, y_train_2)\n",
        "# Get columns to keep and create new dataframe with those only\n",
        "cols = selector.get_support(indices=True)\n",
        "x_train_2_filtered = X_train_2.iloc[:,cols]\n",
        "x_test_2_filtered = X_test_2.iloc[:,cols]\n",
        "x_train_2_filtered.shape, x_test_2_filtered.shape"
      ],
      "execution_count": 41,
      "outputs": [
        {
          "output_type": "execute_result",
          "data": {
            "text/plain": [
              "((4657, 30), (1165, 30))"
            ]
          },
          "metadata": {
            "tags": []
          },
          "execution_count": 41
        }
      ]
    },
    {
      "cell_type": "code",
      "metadata": {
        "id": "TZcHaPQvziuh",
        "colab_type": "code",
        "colab": {
          "base_uri": "https://localhost:8080/",
          "height": 85
        },
        "outputId": "39ac6037-6664-4ccb-9bf6-e1243621fc81"
      },
      "source": [
        "# Entrenamos los modelos con y sin los datos seleccionados\n",
        "clf = RandomForestClassifier(oob_score = True)\n",
        "clf.fit(X_train_2, y_train_2)\n",
        "print(\"Exactitud en el subdata de entrenamiento sin datos seleccionados\",clf.score(X_train_2, y_train_2))\n",
        "print(\"Exactitud en el subdata de test sin datos seleccionados\",clf.score(X_test_2, y_test_2))\n",
        "# Entrenamos el modelo con los datos seleccionados\n",
        "clf = RandomForestClassifier(oob_score = True)\n",
        "clf.fit(x_train_2_filtered, y_train_2)\n",
        "print(\"Exactitud en el subdata de entrenamiento con datos seleccionados\",clf.score(x_train_2_filtered, y_train_2))\n",
        "print(\"Exactitud en el subdata de test con datos seleccionados\",clf.score(x_test_2_filtered, y_test_2))"
      ],
      "execution_count": 42,
      "outputs": [
        {
          "output_type": "stream",
          "text": [
            "Exactitud en el subdata de entrenamiento sin datos seleccionados 0.9918402404981748\n",
            "Exactitud en el subdata de test sin datos seleccionados 0.9339055793991416\n",
            "Exactitud en el subdata de entrenamiento con datos seleccionados 0.9869014386944385\n",
            "Exactitud en el subdata de test con datos seleccionados 0.9296137339055794\n"
          ],
          "name": "stdout"
        }
      ]
    },
    {
      "cell_type": "code",
      "metadata": {
        "id": "BTLzOOkn423F",
        "colab_type": "code",
        "colab": {
          "base_uri": "https://localhost:8080/",
          "height": 51
        },
        "outputId": "cc986f14-78c1-44da-b538-d3f8ba346c4e"
      },
      "source": [
        "#Probamos el modelo en data de test\n",
        "x_test_filtered = X_test.iloc[:,cols]\n",
        "print(\"Precisión en el data de test con datos seleccionados\",clf.score(x_test_filtered, y_test))\n",
        "#Obtenemos el AUC del modelo\n",
        "y_pred_test = clf.predict_proba(x_test_filtered)[:,1]\n",
        "auc_roc = metrics.roc_auc_score(y_test, y_pred_test)\n",
        "print('AUC =', auc_roc)"
      ],
      "execution_count": 43,
      "outputs": [
        {
          "output_type": "stream",
          "text": [
            "Precisión en el data de test con datos seleccionados 0.935\n",
            "AUC = 0.6854725941413248\n"
          ],
          "name": "stdout"
        }
      ]
    },
    {
      "cell_type": "markdown",
      "metadata": {
        "id": "XIsS-PWM7OaC",
        "colab_type": "text"
      },
      "source": [
        "##Búsqueda de grilla para los hiperparámetros de la selección de características"
      ]
    },
    {
      "cell_type": "code",
      "metadata": {
        "id": "RL1NwWJm7Wcc",
        "colab_type": "code",
        "colab": {}
      },
      "source": [
        "#Realizamos un búsqueda por grilla\n",
        "score_func_list = [f_classif, mutual_info_classif, chi2]\n",
        "k_list = [int(x) for x in np.linspace(start = 10, stop = 80, num = 15)]"
      ],
      "execution_count": 44,
      "outputs": []
    },
    {
      "cell_type": "code",
      "metadata": {
        "id": "WQTGnsZj9gxa",
        "colab_type": "code",
        "colab": {}
      },
      "source": [
        "from sklearn.model_selection import GridSearchCV\n",
        "# definimos la función que busca los mejores hiperparámetros evaluándolos por el AUC de las características\n",
        "def getBestParams(score_func_list, k_list):\n",
        "  print(\"Esto podria tomar unos minutos ...\")\n",
        "  best_auc = 0\n",
        "  for score_func in score_func_list:\n",
        "    for k in k_list:\n",
        "      selector = SelectKBest(score_func,k)\n",
        "      selector = selector.fit(X_train_2, y_train_2)\n",
        "      cols = selector.get_support(indices=True)\n",
        "      x_train_2_filtered = X_train_2.iloc[:,cols]\n",
        "      x_test_2_filtered = X_test_2.iloc[:,cols]\n",
        "      clf = RandomForestClassifier(oob_score = True)\n",
        "      clf.fit(x_train_2_filtered, y_train_2)\n",
        "      print(\"Params: score_func: \", score_func, \", k:\", k)\n",
        "      test_score = clf.score(x_test_2_filtered, y_test_2)\n",
        "      y_pred_test = clf.predict_proba(x_test_2_filtered)[:,1]\n",
        "      auc_roc = metrics.roc_auc_score(y_test_2, y_pred_test)\n",
        "      print(\"Exactitud en text: \", test_score, \", AUC = \", auc_roc)\n",
        "      if best_auc < auc_roc :\n",
        "        best_auc = auc_roc\n",
        "        best_params = {'k': k,'score_func': score_func}\n",
        "  return best_params\n"
      ],
      "execution_count": 45,
      "outputs": []
    },
    {
      "cell_type": "code",
      "metadata": {
        "id": "91HGdcLYYOGH",
        "colab_type": "code",
        "colab": {
          "base_uri": "https://localhost:8080/",
          "height": 1000
        },
        "outputId": "dd1cfd56-dd38-4fa6-f8b5-c1d0b6c6cdb5"
      },
      "source": [
        "#Hacemos una primera búsqueda\n",
        "best_params = getBestParams(score_func_list, k_list)"
      ],
      "execution_count": 46,
      "outputs": [
        {
          "output_type": "stream",
          "text": [
            "Esto podria tomar unos minutos ...\n",
            "Params: score_func:  <function f_classif at 0x7f71410a2d08> , k: 10\n",
            "Exactitud en text:  0.9175965665236051 , AUC =  0.6992172211350294\n",
            "Params: score_func:  <function f_classif at 0x7f71410a2d08> , k: 15\n",
            "Exactitud en text:  0.9296137339055794 , AUC =  0.701252446183953\n",
            "Params: score_func:  <function f_classif at 0x7f71410a2d08> , k: 20\n",
            "Exactitud en text:  0.927038626609442 , AUC =  0.6818917155903458\n",
            "Params: score_func:  <function f_classif at 0x7f71410a2d08> , k: 25\n",
            "Exactitud en text:  0.9287553648068669 , AUC =  0.685068493150685\n",
            "Params: score_func:  <function f_classif at 0x7f71410a2d08> , k: 30\n",
            "Exactitud en text:  0.9304721030042918 , AUC =  0.7091258969341162\n",
            "Params: score_func:  <function f_classif at 0x7f71410a2d08> , k: 35\n",
            "Exactitud en text:  0.9287553648068669 , AUC =  0.7108153946510112\n",
            "Params: score_func:  <function f_classif at 0x7f71410a2d08> , k: 40\n",
            "Exactitud en text:  0.9313304721030042 , AUC =  0.7029484670580561\n",
            "Params: score_func:  <function f_classif at 0x7f71410a2d08> , k: 45\n",
            "Exactitud en text:  0.9321888412017167 , AUC =  0.7151206784083497\n",
            "Params: score_func:  <function f_classif at 0x7f71410a2d08> , k: 50\n",
            "Exactitud en text:  0.9321888412017167 , AUC =  0.6835616438356165\n",
            "Params: score_func:  <function f_classif at 0x7f71410a2d08> , k: 55\n",
            "Exactitud en text:  0.9330472103004291 , AUC =  0.7094651011089368\n",
            "Params: score_func:  <function f_classif at 0x7f71410a2d08> , k: 60\n",
            "Exactitud en text:  0.9321888412017167 , AUC =  0.6910893672537507\n",
            "Params: score_func:  <function f_classif at 0x7f71410a2d08> , k: 65\n",
            "Exactitud en text:  0.9330472103004291 , AUC =  0.6773189823874756\n",
            "Params: score_func:  <function f_classif at 0x7f71410a2d08> , k: 70\n",
            "Exactitud en text:  0.9339055793991416 , AUC =  0.7019960861056751\n",
            "Params: score_func:  <function f_classif at 0x7f71410a2d08> , k: 75\n",
            "Exactitud en text:  0.9330472103004291 , AUC =  0.6744814090019571\n",
            "Params: score_func:  <function f_classif at 0x7f71410a2d08> , k: 80\n",
            "Exactitud en text:  0.9339055793991416 , AUC =  0.7162948467058055\n",
            "Params: score_func:  <function mutual_info_classif at 0x7f7141078158> , k: 10\n",
            "Exactitud en text:  0.9253218884120171 , AUC =  0.7274298760600131\n",
            "Params: score_func:  <function mutual_info_classif at 0x7f7141078158> , k: 15\n",
            "Exactitud en text:  0.9261802575107296 , AUC =  0.7176973255055448\n",
            "Params: score_func:  <function mutual_info_classif at 0x7f7141078158> , k: 20\n",
            "Exactitud en text:  0.9236051502145923 , AUC =  0.7113046314416177\n",
            "Params: score_func:  <function mutual_info_classif at 0x7f7141078158> , k: 25\n",
            "Exactitud en text:  0.9287553648068669 , AUC =  0.6707045009784737\n",
            "Params: score_func:  <function mutual_info_classif at 0x7f7141078158> , k: 30\n",
            "Exactitud en text:  0.9321888412017167 , AUC =  0.6984148727984344\n",
            "Params: score_func:  <function mutual_info_classif at 0x7f7141078158> , k: 35\n",
            "Exactitud en text:  0.9253218884120171 , AUC =  0.6984018264840182\n",
            "Params: score_func:  <function mutual_info_classif at 0x7f7141078158> , k: 40\n",
            "Exactitud en text:  0.9321888412017167 , AUC =  0.6549706457925637\n",
            "Params: score_func:  <function mutual_info_classif at 0x7f7141078158> , k: 45\n",
            "Exactitud en text:  0.927038626609442 , AUC =  0.7069667318982387\n",
            "Params: score_func:  <function mutual_info_classif at 0x7f7141078158> , k: 50\n",
            "Exactitud en text:  0.9339055793991416 , AUC =  0.7009980430528375\n",
            "Params: score_func:  <function mutual_info_classif at 0x7f7141078158> , k: 55\n",
            "Exactitud en text:  0.9330472103004291 , AUC =  0.6963992172211351\n",
            "Params: score_func:  <function mutual_info_classif at 0x7f7141078158> , k: 60\n",
            "Exactitud en text:  0.9321888412017167 , AUC =  0.7175016307893021\n",
            "Params: score_func:  <function mutual_info_classif at 0x7f7141078158> , k: 65\n",
            "Exactitud en text:  0.9330472103004291 , AUC =  0.7052511415525115\n",
            "Params: score_func:  <function mutual_info_classif at 0x7f7141078158> , k: 70\n",
            "Exactitud en text:  0.9339055793991416 , AUC =  0.7046183953033268\n",
            "Params: score_func:  <function mutual_info_classif at 0x7f7141078158> , k: 75\n",
            "Exactitud en text:  0.9339055793991416 , AUC =  0.7041943900848011\n",
            "Params: score_func:  <function mutual_info_classif at 0x7f7141078158> , k: 80\n",
            "Exactitud en text:  0.9321888412017167 , AUC =  0.7008023483365948\n",
            "Params: score_func:  <function chi2 at 0x7f71410a2e18> , k: 10\n",
            "Exactitud en text:  0.9278969957081545 , AUC =  0.6953163731245923\n",
            "Params: score_func:  <function chi2 at 0x7f71410a2e18> , k: 15\n",
            "Exactitud en text:  0.9321888412017167 , AUC =  0.6937442922374429\n",
            "Params: score_func:  <function chi2 at 0x7f71410a2e18> , k: 20\n",
            "Exactitud en text:  0.9313304721030042 , AUC =  0.6988714938030006\n",
            "Params: score_func:  <function chi2 at 0x7f71410a2e18> , k: 25\n",
            "Exactitud en text:  0.9304721030042918 , AUC =  0.7010958904109588\n",
            "Params: score_func:  <function chi2 at 0x7f71410a2e18> , k: 30\n",
            "Exactitud en text:  0.9304721030042918 , AUC =  0.6810893672537508\n",
            "Params: score_func:  <function chi2 at 0x7f71410a2e18> , k: 35\n",
            "Exactitud en text:  0.9321888412017167 , AUC =  0.6701304631441618\n",
            "Params: score_func:  <function chi2 at 0x7f71410a2e18> , k: 40\n",
            "Exactitud en text:  0.934763948497854 , AUC =  0.7037573385518592\n",
            "Params: score_func:  <function chi2 at 0x7f71410a2e18> , k: 45\n",
            "Exactitud en text:  0.9330472103004291 , AUC =  0.6907110241356816\n",
            "Params: score_func:  <function chi2 at 0x7f71410a2e18> , k: 50\n",
            "Exactitud en text:  0.9330472103004291 , AUC =  0.6931115459882582\n",
            "Params: score_func:  <function chi2 at 0x7f71410a2e18> , k: 55\n",
            "Exactitud en text:  0.9339055793991416 , AUC =  0.6806196999347685\n",
            "Params: score_func:  <function chi2 at 0x7f71410a2e18> , k: 60\n",
            "Exactitud en text:  0.9330472103004291 , AUC =  0.6909067188519242\n",
            "Params: score_func:  <function chi2 at 0x7f71410a2e18> , k: 65\n",
            "Exactitud en text:  0.9330472103004291 , AUC =  0.7171363339856491\n",
            "Params: score_func:  <function chi2 at 0x7f71410a2e18> , k: 70\n",
            "Exactitud en text:  0.934763948497854 , AUC =  0.6963078930202218\n",
            "Params: score_func:  <function chi2 at 0x7f71410a2e18> , k: 75\n",
            "Exactitud en text:  0.9321888412017167 , AUC =  0.7165818656229614\n",
            "Params: score_func:  <function chi2 at 0x7f71410a2e18> , k: 80\n",
            "Exactitud en text:  0.9339055793991416 , AUC =  0.6841943900848011\n"
          ],
          "name": "stdout"
        }
      ]
    },
    {
      "cell_type": "code",
      "metadata": {
        "id": "7o6K8BMxEy1b",
        "colab_type": "code",
        "colab": {
          "base_uri": "https://localhost:8080/",
          "height": 34
        },
        "outputId": "e517f745-8c76-44bb-92ed-9a85bfc22365"
      },
      "source": [
        "#Mejores parámetros:\n",
        "print(best_params)"
      ],
      "execution_count": 30,
      "outputs": [
        {
          "output_type": "stream",
          "text": [
            "{'k': 15, 'score_func': <function mutual_info_classif at 0x7f7141078158>}\n"
          ],
          "name": "stdout"
        }
      ]
    },
    {
      "cell_type": "code",
      "metadata": {
        "id": "oHirA2praCC3",
        "colab_type": "code",
        "colab": {
          "base_uri": "https://localhost:8080/",
          "height": 357
        },
        "outputId": "810b2b2b-765b-4754-fbbd-d161e753b8f4"
      },
      "source": [
        "#Volvemos a hacer una búsqueda más localizada\n",
        "score_func_list = [mutual_info_classif]\n",
        "k_list = [16,17,18,19,20,21,22,23,24]\n",
        "best_params = getBestParams(score_func_list, k_list)\n",
        "print(best_params)"
      ],
      "execution_count": 31,
      "outputs": [
        {
          "output_type": "stream",
          "text": [
            "Esto podria tomar unos minutos ...\n",
            "Params: score_func:  <function mutual_info_classif at 0x7f7141078158> , k: 16\n",
            "Exactitud en text:  0.9287553648068669 , AUC =  0.7044357469015003\n",
            "Params: score_func:  <function mutual_info_classif at 0x7f7141078158> , k: 17\n",
            "Exactitud en text:  0.9330472103004291 , AUC =  0.7201956947162427\n",
            "Params: score_func:  <function mutual_info_classif at 0x7f7141078158> , k: 18\n",
            "Exactitud en text:  0.9296137339055794 , AUC =  0.6935225048923679\n",
            "Params: score_func:  <function mutual_info_classif at 0x7f7141078158> , k: 19\n",
            "Exactitud en text:  0.9296137339055794 , AUC =  0.7528832354859751\n",
            "Params: score_func:  <function mutual_info_classif at 0x7f7141078158> , k: 20\n",
            "Exactitud en text:  0.927038626609442 , AUC =  0.7235420743639922\n",
            "Params: score_func:  <function mutual_info_classif at 0x7f7141078158> , k: 21\n",
            "Exactitud en text:  0.9304721030042918 , AUC =  0.6686301369863014\n",
            "Params: score_func:  <function mutual_info_classif at 0x7f7141078158> , k: 22\n",
            "Exactitud en text:  0.9321888412017167 , AUC =  0.7281343770384866\n",
            "Params: score_func:  <function mutual_info_classif at 0x7f7141078158> , k: 23\n",
            "Exactitud en text:  0.9321888412017167 , AUC =  0.7030397912589693\n",
            "Params: score_func:  <function mutual_info_classif at 0x7f7141078158> , k: 24\n",
            "Exactitud en text:  0.9261802575107296 , AUC =  0.7248597521200261\n",
            "{'k': 19, 'score_func': <function mutual_info_classif at 0x7f7141078158>}\n"
          ],
          "name": "stdout"
        }
      ]
    },
    {
      "cell_type": "code",
      "metadata": {
        "id": "98BX7Lyy-0Ep",
        "colab_type": "code",
        "colab": {
          "base_uri": "https://localhost:8080/",
          "height": 221
        },
        "outputId": "a6cbfa1b-4297-4c45-92ef-861c57c61817"
      },
      "source": [
        "print('Los hiperparámetros del mejor selector son:')\n",
        "print(best_params)\n",
        "print()\n",
        "best_selector = SelectKBest(best_params['score_func'], k = best_params['k'])\n",
        "best_selector = best_selector.fit(X_train_2, y_train_2)\n",
        "cols = best_selector.get_support(indices=True)\n",
        "\n",
        "x_train_2_filtered = X_train_2.iloc[:,cols]\n",
        "x_test_2_filtered = X_test_2.iloc[:,cols]\n",
        "best_clf = RandomForestClassifier(oob_score = True)\n",
        "best_clf.fit(x_train_2_filtered, y_train_2)\n",
        "print('Mejores características: ')\n",
        "print(x_train_2_filtered.columns)\n",
        "print()\n",
        "\n",
        "y_pred_test = best_clf.predict_proba(x_test_2_filtered)[:,1]\n",
        "auc_roc = metrics.roc_auc_score(y_test_2, y_pred_test)\n",
        "print('Exactitud luego de búsqueda aleatoria en entrenamiento:', best_clf.score(x_train_2_filtered, y_train_2))\n",
        "print('Exactitud luego de búsqueda aleatoria en entrenamiento (Out of Bag):', best_clf.oob_score_)\n",
        "print('Exactitud luego de búsqueda aleatoria en validación:', best_clf.score(x_test_2_filtered, y_test_2))\n",
        "print('AUC del modelo:', auc_roc)\n"
      ],
      "execution_count": 56,
      "outputs": [
        {
          "output_type": "stream",
          "text": [
            "Los hiperparámetros del mejor selector son:\n",
            "{'k': 10, 'score_func': <function mutual_info_classif at 0x7f7141078158>}\n",
            "\n",
            "Mejores características: \n",
            "Index(['MOSTYPE', 'MSKA', 'MINKM30', 'MINK7512', 'MINKGEM', 'PPERSAUT',\n",
            "       'PBRAND', 'AWAPART', 'APERSAUT', 'ABYSTAND'],\n",
            "      dtype='object')\n",
            "\n",
            "Exactitud luego de búsqueda aleatoria en entrenamiento: 0.9819626368907022\n",
            "Exactitud luego de búsqueda aleatoria en entrenamiento (Out of Bag): 0.9261327034571613\n",
            "Exactitud luego de búsqueda aleatoria en validación: 0.927038626609442\n",
            "AUC del modelo: 0.669569471624266\n"
          ],
          "name": "stdout"
        }
      ]
    },
    {
      "cell_type": "markdown",
      "metadata": {
        "id": "gaaUwE1USd2A",
        "colab_type": "text"
      },
      "source": [
        "## Probamos el modelo con las características seleccionadas"
      ]
    },
    {
      "cell_type": "code",
      "metadata": {
        "id": "Svgotm53UIPI",
        "colab_type": "code",
        "colab": {
          "base_uri": "https://localhost:8080/",
          "height": 51
        },
        "outputId": "b2c8997b-f906-43ed-9150-f2dc9ace2a81"
      },
      "source": [
        "#Entrenamos el modelo con las columnas filtradas\n",
        "x_train_filtered = X_train.iloc[:,cols]\n",
        "x_test_filtered = X_test.iloc[:,cols]\n",
        "clf = RandomForestClassifier(oob_score = True)\n",
        "clf.fit(x_train_filtered, y_train)\n",
        "print(\"Exactitud en el data de entrenamiento\",clf.score(x_train_filtered, y_train))\n",
        "print(\"Exactitud en el data de test\",clf.score(x_test_filtered, y_test))"
      ],
      "execution_count": 57,
      "outputs": [
        {
          "output_type": "stream",
          "text": [
            "Exactitud en el data de entrenamiento 0.981277911370663\n",
            "Exactitud en el data de test 0.9295\n"
          ],
          "name": "stdout"
        }
      ]
    },
    {
      "cell_type": "code",
      "metadata": {
        "id": "jho7f_ckUl7l",
        "colab_type": "code",
        "colab": {
          "base_uri": "https://localhost:8080/",
          "height": 34
        },
        "outputId": "0a6342f4-bab0-40df-f003-441bd14c6edb"
      },
      "source": [
        "#Obtenemos el AUC del primer modelo\n",
        "y_pred_test = clf.predict_proba(x_test_filtered)[:,1]\n",
        "auc_roc = metrics.roc_auc_score(y_test, y_pred_test)\n",
        "print('AUC =', auc_roc)\n",
        "\n",
        "#metrics.plot_roc_curve(clf, X_test, y_test)\n",
        "#plt.show()  "
      ],
      "execution_count": 58,
      "outputs": [
        {
          "output_type": "stream",
          "text": [
            "AUC = 0.6579455546173812\n"
          ],
          "name": "stdout"
        }
      ]
    },
    {
      "cell_type": "markdown",
      "metadata": {
        "id": "r_HK2H1MgHDU",
        "colab_type": "text"
      },
      "source": [
        "#Entrenamiento"
      ]
    },
    {
      "cell_type": "markdown",
      "metadata": {
        "id": "9XJbfcufgpRE",
        "colab_type": "text"
      },
      "source": [
        "####Oversampling"
      ]
    },
    {
      "cell_type": "code",
      "metadata": {
        "id": "9fBKBwy_gk5_",
        "colab_type": "code",
        "colab": {
          "base_uri": "https://localhost:8080/",
          "height": 105
        },
        "outputId": "9c1d7496-a84a-4793-cded-5d72c1fe5921"
      },
      "source": [
        "#Oversampling en la data de entrenamiento\n",
        "from imblearn.over_sampling import SMOTE\n",
        "sm = SMOTE(kind='regular')\n",
        "\n",
        "x_train_2_filtered_sampling, y_train_2_sampling = sm.fit_sample(x_train_2_filtered, y_train_2)\n",
        "x_train_filtered_sampling, y_train_sampling = sm.fit_sample(x_train_filtered, y_train)"
      ],
      "execution_count": 59,
      "outputs": [
        {
          "output_type": "stream",
          "text": [
            "/usr/local/lib/python3.6/dist-packages/sklearn/utils/deprecation.py:87: FutureWarning: Function safe_indexing is deprecated; safe_indexing is deprecated in version 0.22 and will be removed in version 0.24.\n",
            "  warnings.warn(msg, category=FutureWarning)\n",
            "/usr/local/lib/python3.6/dist-packages/sklearn/utils/deprecation.py:87: FutureWarning: Function safe_indexing is deprecated; safe_indexing is deprecated in version 0.22 and will be removed in version 0.24.\n",
            "  warnings.warn(msg, category=FutureWarning)\n"
          ],
          "name": "stderr"
        }
      ]
    },
    {
      "cell_type": "markdown",
      "metadata": {
        "id": "xi1JlSsugMSM",
        "colab_type": "text"
      },
      "source": [
        "##Random Forest"
      ]
    },
    {
      "cell_type": "markdown",
      "metadata": {
        "id": "K5eQt4eNzHbd",
        "colab_type": "text"
      },
      "source": [
        "###Búsqueda aleatoria de hiperparámetros"
      ]
    },
    {
      "cell_type": "code",
      "metadata": {
        "id": "U9_i64S-zL-R",
        "colab_type": "code",
        "colab": {
          "base_uri": "https://localhost:8080/",
          "height": 136
        },
        "outputId": "88d19dd8-cbbf-4d07-9295-cadce63bd4a8"
      },
      "source": [
        "#Fuente: Colab ejercicio en clase\n",
        "from pprint import pprint\n",
        "\n",
        "n_estimators = [int(x) for x in np.linspace(start = 400, stop = 1000, num = 5)]\n",
        "max_features = ['auto', 8, 12, None]  # 'auto' equivale a 'sqrt'; None equivale a todas las 15\n",
        "max_depth = [int(x) for x in np.linspace(10, 110, num = 11)] + [None]\n",
        "min_samples_leaf = [1, 2, 4]\n",
        "\n",
        "random_grid = {'n_estimators': n_estimators,\n",
        "               'max_features': max_features,\n",
        "               'max_depth': max_depth,\n",
        "               'min_samples_leaf': min_samples_leaf}\n",
        "\n",
        "print('Los valores a probar en la búsqueda aleatoria son:')\n",
        "pprint(random_grid)\n",
        "\n",
        "print()\n",
        "print('Si se probara todas las combinaciones se requeriría entrenar', \n",
        "      len(random_grid['n_estimators']) *\n",
        "      len(random_grid['max_features']) *\n",
        "      len(random_grid['max_depth']) *\n",
        "      len(random_grid['min_samples_leaf']),\n",
        "      'modelos'\n",
        "      )"
      ],
      "execution_count": 60,
      "outputs": [
        {
          "output_type": "stream",
          "text": [
            "Los valores a probar en la búsqueda aleatoria son:\n",
            "{'max_depth': [10, 20, 30, 40, 50, 60, 70, 80, 90, 100, 110, None],\n",
            " 'max_features': ['auto', 8, 12, None],\n",
            " 'min_samples_leaf': [1, 2, 4],\n",
            " 'n_estimators': [400, 550, 700, 850, 1000]}\n",
            "\n",
            "Si se probara todas las combinaciones se requeriría entrenar 720 modelos\n"
          ],
          "name": "stdout"
        }
      ]
    },
    {
      "cell_type": "code",
      "metadata": {
        "id": "L75RU0iRzx_0",
        "colab_type": "code",
        "colab": {
          "base_uri": "https://localhost:8080/",
          "height": 561
        },
        "outputId": "0e0a8443-522d-4819-8f73-91596b7d8dca"
      },
      "source": [
        "#Probaremos entrenando un 10% de las combinaciones posibles, es decir 72\n",
        "from sklearn.model_selection import RandomizedSearchCV\n",
        "\n",
        "rf = RandomForestClassifier(oob_score=True)\n",
        "rf_random = RandomizedSearchCV(estimator = rf, \n",
        "                               param_distributions = random_grid, \n",
        "                               n_iter = 1, #For testing change this to n_tier <10\n",
        "                               cv = 3,          # Validación cruzada 3-fold\n",
        "                               verbose=2, \n",
        "                               random_state=0, \n",
        "                               n_jobs = -1      # Paralelizar en todos los cores disponibles\n",
        "                               )\n",
        "rf_random.fit(x_train_2_filtered_sampling, y_train_2_sampling)"
      ],
      "execution_count": 61,
      "outputs": [
        {
          "output_type": "stream",
          "text": [
            "Fitting 3 folds for each of 1 candidates, totalling 3 fits\n"
          ],
          "name": "stdout"
        },
        {
          "output_type": "stream",
          "text": [
            "[Parallel(n_jobs=-1)]: Using backend LokyBackend with 2 concurrent workers.\n",
            "[Parallel(n_jobs=-1)]: Done   3 out of   3 | elapsed:   23.7s finished\n"
          ],
          "name": "stderr"
        },
        {
          "output_type": "execute_result",
          "data": {
            "text/plain": [
              "RandomizedSearchCV(cv=3, error_score=nan,\n",
              "                   estimator=RandomForestClassifier(bootstrap=True,\n",
              "                                                    ccp_alpha=0.0,\n",
              "                                                    class_weight=None,\n",
              "                                                    criterion='gini',\n",
              "                                                    max_depth=None,\n",
              "                                                    max_features='auto',\n",
              "                                                    max_leaf_nodes=None,\n",
              "                                                    max_samples=None,\n",
              "                                                    min_impurity_decrease=0.0,\n",
              "                                                    min_impurity_split=None,\n",
              "                                                    min_samples_leaf=1,\n",
              "                                                    min_samples_split=2,\n",
              "                                                    min_weight_fraction_leaf=0.0,\n",
              "                                                    n_estimators=100,\n",
              "                                                    n_jobs...\n",
              "                                                    random_state=None,\n",
              "                                                    verbose=0,\n",
              "                                                    warm_start=False),\n",
              "                   iid='deprecated', n_iter=1, n_jobs=-1,\n",
              "                   param_distributions={'max_depth': [10, 20, 30, 40, 50, 60,\n",
              "                                                      70, 80, 90, 100, 110,\n",
              "                                                      None],\n",
              "                                        'max_features': ['auto', 8, 12, None],\n",
              "                                        'min_samples_leaf': [1, 2, 4],\n",
              "                                        'n_estimators': [400, 550, 700, 850,\n",
              "                                                         1000]},\n",
              "                   pre_dispatch='2*n_jobs', random_state=0, refit=True,\n",
              "                   return_train_score=False, scoring=None, verbose=2)"
            ]
          },
          "metadata": {
            "tags": []
          },
          "execution_count": 61
        }
      ]
    },
    {
      "cell_type": "code",
      "metadata": {
        "id": "tJsJFwdvBLhn",
        "colab_type": "code",
        "colab": {
          "base_uri": "https://localhost:8080/",
          "height": 170
        },
        "outputId": "d98ef8f6-4043-4861-9a8d-f7515dfc4903"
      },
      "source": [
        "rf_random_best = rf_random.best_estimator_\n",
        "\n",
        "print('Los hiperparámetros del mejor modelo son:')\n",
        "pprint(rf_random.best_params_)\n",
        "print()\n",
        "\n",
        "print('Exactitud luego de búsqueda aleatoria en entrenamiento:', rf_random_best.score(x_train_2_filtered_sampling, y_train_2_sampling))\n",
        "print('Exactitud luego de búsqueda aleatoria en entrenamiento (Out of Bag):', rf_random_best.oob_score_)\n",
        "print('Exactitud luego de búsqueda aleatoria en validación:', rf_random_best.score(x_test_2_filtered, y_test_2))"
      ],
      "execution_count": 62,
      "outputs": [
        {
          "output_type": "stream",
          "text": [
            "Los hiperparámetros del mejor modelo son:\n",
            "{'max_depth': None,\n",
            " 'max_features': 8,\n",
            " 'min_samples_leaf': 2,\n",
            " 'n_estimators': 1000}\n",
            "\n",
            "Exactitud luego de búsqueda aleatoria en entrenamiento: 0.9612925325416762\n",
            "Exactitud luego de búsqueda aleatoria en entrenamiento (Out of Bag): 0.9117378396894268\n",
            "Exactitud luego de búsqueda aleatoria en validación: 0.8506437768240344\n"
          ],
          "name": "stdout"
        }
      ]
    },
    {
      "cell_type": "code",
      "metadata": {
        "id": "OB2hW05jDnOF",
        "colab_type": "code",
        "colab": {
          "base_uri": "https://localhost:8080/",
          "height": 102
        },
        "outputId": "76e207fd-158c-4264-cbbd-b5130ded62f8"
      },
      "source": [
        "max_features = [4,5,6,7]\n",
        "max_depth = [87, 90, 93]\n",
        "min_samples_leaf = [1]\n",
        "n_estimators = [700]\n",
        "\n",
        "segundo_grid = {'n_estimators': n_estimators,\n",
        "               'max_features': max_features,\n",
        "               'max_depth': max_depth,\n",
        "               'min_samples_leaf': min_samples_leaf}\n",
        "\n",
        "print('Los valores a probar en la búsqueda por grilla son:')\n",
        "pprint(segundo_grid)"
      ],
      "execution_count": 63,
      "outputs": [
        {
          "output_type": "stream",
          "text": [
            "Los valores a probar en la búsqueda por grilla son:\n",
            "{'max_depth': [87, 90, 93],\n",
            " 'max_features': [4, 5, 6, 7],\n",
            " 'min_samples_leaf': [1],\n",
            " 'n_estimators': [700]}\n"
          ],
          "name": "stdout"
        }
      ]
    },
    {
      "cell_type": "code",
      "metadata": {
        "id": "zCrmZSPLFQcS",
        "colab_type": "code",
        "colab": {
          "base_uri": "https://localhost:8080/",
          "height": 425
        },
        "outputId": "a63d65ed-46ff-41a4-bdd1-fa06091a8ea0"
      },
      "source": [
        "from sklearn.model_selection import GridSearchCV\n",
        "\n",
        "rf = RandomForestClassifier(oob_score = True)\n",
        "rf_grid = GridSearchCV(estimator = rf, \n",
        "                        param_grid = segundo_grid, \n",
        "                        cv = 3,          # Validación cruzada 3-fold\n",
        "                        verbose=2, \n",
        "                        n_jobs = -1      # Paralelizar en todos los cores disponibles\n",
        "                        )\n",
        "rf_grid.fit(x_train_2_filtered_sampling, y_train_2_sampling)"
      ],
      "execution_count": 64,
      "outputs": [
        {
          "output_type": "stream",
          "text": [
            "Fitting 3 folds for each of 12 candidates, totalling 36 fits\n"
          ],
          "name": "stdout"
        },
        {
          "output_type": "stream",
          "text": [
            "[Parallel(n_jobs=-1)]: Using backend LokyBackend with 2 concurrent workers.\n",
            "[Parallel(n_jobs=-1)]: Done  36 out of  36 | elapsed:  2.6min finished\n"
          ],
          "name": "stderr"
        },
        {
          "output_type": "execute_result",
          "data": {
            "text/plain": [
              "GridSearchCV(cv=3, error_score=nan,\n",
              "             estimator=RandomForestClassifier(bootstrap=True, ccp_alpha=0.0,\n",
              "                                              class_weight=None,\n",
              "                                              criterion='gini', max_depth=None,\n",
              "                                              max_features='auto',\n",
              "                                              max_leaf_nodes=None,\n",
              "                                              max_samples=None,\n",
              "                                              min_impurity_decrease=0.0,\n",
              "                                              min_impurity_split=None,\n",
              "                                              min_samples_leaf=1,\n",
              "                                              min_samples_split=2,\n",
              "                                              min_weight_fraction_leaf=0.0,\n",
              "                                              n_estimators=100, n_jobs=None,\n",
              "                                              oob_score=True, random_state=None,\n",
              "                                              verbose=0, warm_start=False),\n",
              "             iid='deprecated', n_jobs=-1,\n",
              "             param_grid={'max_depth': [87, 90, 93],\n",
              "                         'max_features': [4, 5, 6, 7], 'min_samples_leaf': [1],\n",
              "                         'n_estimators': [700]},\n",
              "             pre_dispatch='2*n_jobs', refit=True, return_train_score=False,\n",
              "             scoring=None, verbose=2)"
            ]
          },
          "metadata": {
            "tags": []
          },
          "execution_count": 64
        }
      ]
    },
    {
      "cell_type": "markdown",
      "metadata": {
        "id": "OKwJgYmZmEZ8",
        "colab_type": "text"
      },
      "source": [
        "###Exactitud y AUC del data de test"
      ]
    },
    {
      "cell_type": "code",
      "metadata": {
        "id": "2xzYtmErFaJ1",
        "colab_type": "code",
        "colab": {
          "base_uri": "https://localhost:8080/",
          "height": 119
        },
        "outputId": "f7d2ac10-62f1-40af-bf74-6723d1a2097a"
      },
      "source": [
        "rf_grid_best = rf_grid.best_estimator_\n",
        "\n",
        "print('Los hiperparámetros del mejor modelo son:')\n",
        "pprint(rf_grid.best_params_)\n",
        "print()\n",
        "\n",
        "print('Exactitud luego de búsqueda en grilla en entrenamiento:', rf_grid_best.score(x_train_2_filtered_sampling, y_train_2_sampling))\n",
        "print('Exactitud luego de búsqueda en grilla en entrenamiento (Out of Bag):', rf_grid_best.oob_score_)\n",
        "print('Exactitud luego de búsqueda en grilla en validación:', rf_grid_best.score(x_test_filtered, y_test))"
      ],
      "execution_count": 65,
      "outputs": [
        {
          "output_type": "stream",
          "text": [
            "Los hiperparámetros del mejor modelo son:\n",
            "{'max_depth': 87, 'max_features': 7, 'min_samples_leaf': 1, 'n_estimators': 700}\n",
            "\n",
            "Exactitud luego de búsqueda en grilla en entrenamiento: 0.9728248458552181\n",
            "Exactitud luego de búsqueda en grilla en entrenamiento (Out of Bag): 0.9181319936058461\n",
            "Exactitud luego de búsqueda en grilla en validación: 0.85425\n"
          ],
          "name": "stdout"
        }
      ]
    },
    {
      "cell_type": "code",
      "metadata": {
        "id": "LcsbbGoOFajx",
        "colab_type": "code",
        "colab": {
          "base_uri": "https://localhost:8080/",
          "height": 296
        },
        "outputId": "728fdeb8-de20-46dc-ca93-c6fd579cff61"
      },
      "source": [
        "from sklearn import metrics\n",
        "\n",
        "y_pred_val = rf_grid_best.predict_proba(x_test_filtered)[:,1]\n",
        "auc_roc = metrics.roc_auc_score(y_test, y_pred_val)\n",
        "print('AUC =', auc_roc)\n",
        "\n",
        "metrics.plot_roc_curve(rf_grid_best, x_test_filtered, y_test)\n",
        "plt.show()"
      ],
      "execution_count": 66,
      "outputs": [
        {
          "output_type": "stream",
          "text": [
            "AUC = 0.6527721934068682\n"
          ],
          "name": "stdout"
        },
        {
          "output_type": "display_data",
          "data": {
            "image/png": "[encoded data removed]",
            "text/plain": [
              "<Figure size 432x288 with 1 Axes>"
            ]
          },
          "metadata": {
            "tags": [],
            "needs_background": "light"
          }
        }
      ]
    },
    {
      "cell_type": "markdown",
      "metadata": {
        "id": "pXLibG2uZQ5E",
        "colab_type": "text"
      },
      "source": [
        "##Máquina de soporte de vectores"
      ]
    },
    {
      "cell_type": "code",
      "metadata": {
        "id": "d2tSZTEhtzOY",
        "colab_type": "code",
        "colab": {
          "base_uri": "https://localhost:8080/",
          "height": 34
        },
        "outputId": "a07d8573-2361-4adc-e574-b3f580b33e4b"
      },
      "source": [
        "from sklearn import svm\n",
        "\n",
        "svc = svm.SVC()\n",
        "svc.fit(x_train_filtered, y_train)\n",
        "y_pred = svc.predict(x_test_filtered)\n",
        "print('SVC: ' + str(metrics.accuracy_score(y_test, y_pred)))"
      ],
      "execution_count": 79,
      "outputs": [
        {
          "output_type": "stream",
          "text": [
            "SVC: 0.9405\n"
          ],
          "name": "stdout"
        }
      ]
    },
    {
      "cell_type": "code",
      "metadata": {
        "id": "xXKFhmgsuGIa",
        "colab_type": "code",
        "colab": {
          "base_uri": "https://localhost:8080/",
          "height": 34
        },
        "outputId": "e2541784-1ebf-43a2-bcb1-c6b981346aa1"
      },
      "source": [
        "#Ajuste de parámetros\n",
        "param_grid = {'C': (range(2, 7))}\n",
        "grid = GridSearchCV(svm.SVC(random_state=0), param_grid=param_grid, cv=10)\n",
        "grid.fit(x_train_filtered, y_train)\n",
        "print(grid.best_params_)"
      ],
      "execution_count": 80,
      "outputs": [
        {
          "output_type": "stream",
          "text": [
            "{'C': 2}\n"
          ],
          "name": "stdout"
        }
      ]
    },
    {
      "cell_type": "code",
      "metadata": {
        "id": "d5EZafzluYBy",
        "colab_type": "code",
        "colab": {
          "base_uri": "https://localhost:8080/",
          "height": 34
        },
        "outputId": "a91598ef-dfde-475f-8aaf-22ff8a3daca5"
      },
      "source": [
        "svc = svm.SVC(C=2, probability=True)\n",
        "svc.fit(x_train_filtered, y_train)\n",
        "y_pred = svc.predict(x_test_filtered)\n",
        "print('SVC: ' + str(metrics.accuracy_score(y_test, y_pred)))"
      ],
      "execution_count": 83,
      "outputs": [
        {
          "output_type": "stream",
          "text": [
            "SVC: 0.9405\n"
          ],
          "name": "stdout"
        }
      ]
    },
    {
      "cell_type": "code",
      "metadata": {
        "id": "L6dVNMKXughp",
        "colab_type": "code",
        "colab": {
          "base_uri": "https://localhost:8080/",
          "height": 296
        },
        "outputId": "592e6325-7e25-4d64-afe3-4fd052596f46"
      },
      "source": [
        "from sklearn import metrics\n",
        "\n",
        "y_pred_val = svc.predict_proba(x_test_filtered)[:,1]\n",
        "auc_roc = metrics.roc_auc_score(y_test, y_pred_val)\n",
        "print('AUC =', auc_roc)\n",
        "\n",
        "metrics.plot_roc_curve(svc, x_test_filtered, y_test)\n",
        "plt.show()"
      ],
      "execution_count": 84,
      "outputs": [
        {
          "output_type": "stream",
          "text": [
            "AUC = 0.5271283154410089\n"
          ],
          "name": "stdout"
        },
        {
          "output_type": "display_data",
          "data": {
            "image/png": "[encoded data removed]",
            "text/plain": [
              "<Figure size 432x288 with 1 Axes>"
            ]
          },
          "metadata": {
            "tags": [],
            "needs_background": "light"
          }
        }
      ]
    },
    {
      "cell_type": "markdown",
      "metadata": {
        "id": "YdGDnwvcbAQv",
        "colab_type": "text"
      },
      "source": [
        "##Logistic Regression"
      ]
    },
    {
      "cell_type": "code",
      "metadata": {
        "id": "PsFoBna-bU9w",
        "colab_type": "code",
        "colab": {
          "base_uri": "https://localhost:8080/",
          "height": 34
        },
        "outputId": "5feaabcc-43f3-4c8a-d43a-ced4c0008f26"
      },
      "source": [
        "from sklearn.linear_model import LogisticRegression\n",
        "from sklearn.linear_model import Lasso\n",
        "#X_train_filtered, X_test_filtered, y_train, y_test = getSplitData()\n",
        "lasso = LogisticRegression(penalty='l1', solver='liblinear').fit(x_train_filtered_sampling, y_train_sampling)\n",
        "y_pred_test = lasso.predict(x_test_filtered)\n",
        "print(metrics.accuracy_score(y_test, y_pred_test))"
      ],
      "execution_count": 87,
      "outputs": [
        {
          "output_type": "stream",
          "text": [
            "0.67225\n"
          ],
          "name": "stdout"
        }
      ]
    },
    {
      "cell_type": "code",
      "metadata": {
        "id": "JuP823Omsu1Y",
        "colab_type": "code",
        "colab": {
          "base_uri": "https://localhost:8080/",
          "height": 34
        },
        "outputId": "f610b927-a54e-438b-e0dc-f4704a1d7dea"
      },
      "source": [
        "#Ajuste de parámetros\n",
        "from sklearn.model_selection import GridSearchCV\n",
        "logistic = LogisticRegression(penalty='l1', solver='liblinear')\n",
        "C = np.logspace(0, 4, 10)\n",
        "hyperparameters = dict(C=C)\n",
        "clf = GridSearchCV(logistic, hyperparameters, cv=5, verbose=0)\n",
        "best_model = clf.fit(x_train_filtered_sampling, y_train_sampling)\n",
        "print('Best C:', best_model.best_estimator_.get_params()['C'])"
      ],
      "execution_count": 91,
      "outputs": [
        {
          "output_type": "stream",
          "text": [
            "Best C: 21.544346900318832\n"
          ],
          "name": "stdout"
        }
      ]
    },
    {
      "cell_type": "code",
      "metadata": {
        "id": "ckMvcvZrtHRW",
        "colab_type": "code",
        "colab": {
          "base_uri": "https://localhost:8080/",
          "height": 34
        },
        "outputId": "6f942964-544a-4dbb-fd3a-b665a18ac290"
      },
      "source": [
        "logistic = LogisticRegression(penalty='l1', solver='liblinear', C=21.5)\n",
        "logistic.fit(x_train_filtered_sampling, y_train_sampling)\n",
        "y_pred = logistic.predict(x_test_filtered)\n",
        "print(metrics.accuracy_score(y_test, y_pred))"
      ],
      "execution_count": 89,
      "outputs": [
        {
          "output_type": "stream",
          "text": [
            "0.6725\n"
          ],
          "name": "stdout"
        }
      ]
    },
    {
      "cell_type": "code",
      "metadata": {
        "id": "xxAG-gWysPSB",
        "colab_type": "code",
        "colab": {
          "base_uri": "https://localhost:8080/",
          "height": 296
        },
        "outputId": "a33d9ce5-c070-4407-eab9-9cc446ba71f1"
      },
      "source": [
        "from sklearn import metrics\n",
        "\n",
        "y_pred_val = logistic.predict_proba(x_test_filtered)[:,1]\n",
        "auc_roc = metrics.roc_auc_score(y_test, y_pred_val)\n",
        "print('AUC =', auc_roc)\n",
        "\n",
        "metrics.plot_roc_curve(logistic, x_test_filtered, y_test)\n",
        "plt.show()"
      ],
      "execution_count": 90,
      "outputs": [
        {
          "output_type": "stream",
          "text": [
            "AUC = 0.6466439047708398\n"
          ],
          "name": "stdout"
        },
        {
          "output_type": "display_data",
          "data": {
            "image/png": "[encoded data removed]",
            "text/plain": [
              "<Figure size 432x288 with 1 Axes>"
            ]
          },
          "metadata": {
            "tags": [],
            "needs_background": "light"
          }
        }
      ]
    }
  ]
}